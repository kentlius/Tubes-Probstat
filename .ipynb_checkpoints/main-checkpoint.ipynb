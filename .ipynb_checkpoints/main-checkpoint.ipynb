{
 "cells": [
  {
   "cell_type": "markdown",
   "metadata": {},
   "source": [
    "# Tugas Besar IF2220 Probabilitas dan Statistika\n",
    "## Penarikan Kesimpulan dan Pengujian Hipotesis\n",
    "- 13520006 - Vionie Novencia Thanggestyo\n",
    "- 13520069 - Kent Liusudarso"
   ]
  },
  {
   "cell_type": "markdown",
   "metadata": {},
   "source": [
    "Enam Langkah Testing:\n",
    "\n",
    "1. Tentukan Hipotesis nol ${(H_0: θ = θ_0)}$, dimana ${θ}$ bisa berupa ${μ}$, ${σ^2}$, ${p}$, atau data lain berdistribusi tertentu (normal, binomial, dsc.).\n",
    "2. Pilih hipotesis alternatif H1 salah dari dari ${θ > θ_0}$, ${θ < θ_0}$, atau ${θ ≠ θ_0}$.\n",
    "3. Tentukan tingkat signifikan ${α}$.\n",
    "4. Tentukan uji statistik yang sesuai dan tentukan daerah kritis.\n",
    "5. Hitung nilai uji statistik dari data sample. Hitung _p-value_ sesuai dengan uji statistik yang digunakan.\n",
    "6. Ambil keputusan dengan TOLAK ${H_0}$ jika nilai uji terletak di daerah kritis atau dengan tes signifikan, TOLAK ${H_0}$ jika _p-value_ lebih kecil dibanding tingkat signifikansi ${α}$ yang diinginkan.\n"
   ]
  },
  {
   "cell_type": "code",
   "execution_count": 6,
   "metadata": {},
   "outputs": [
    {
     "data": {
      "text/html": [
       "<div>\n",
       "<style scoped>\n",
       "    .dataframe tbody tr th:only-of-type {\n",
       "        vertical-align: middle;\n",
       "    }\n",
       "\n",
       "    .dataframe tbody tr th {\n",
       "        vertical-align: top;\n",
       "    }\n",
       "\n",
       "    .dataframe thead th {\n",
       "        text-align: right;\n",
       "    }\n",
       "</style>\n",
       "<table border=\"1\" class=\"dataframe\">\n",
       "  <thead>\n",
       "    <tr style=\"text-align: right;\">\n",
       "      <th></th>\n",
       "      <th>id</th>\n",
       "      <th>pH</th>\n",
       "      <th>Hardness</th>\n",
       "      <th>Solids</th>\n",
       "      <th>Chloramines</th>\n",
       "      <th>Sulfate</th>\n",
       "      <th>Conductivity</th>\n",
       "      <th>OrganicCarbon</th>\n",
       "      <th>Trihalomethanes</th>\n",
       "      <th>Turbidity</th>\n",
       "      <th>Potability</th>\n",
       "    </tr>\n",
       "  </thead>\n",
       "  <tbody>\n",
       "    <tr>\n",
       "      <th>0</th>\n",
       "      <td>1</td>\n",
       "      <td>8.316766</td>\n",
       "      <td>214.373394</td>\n",
       "      <td>22018.417441</td>\n",
       "      <td>8.059332</td>\n",
       "      <td>356.886136</td>\n",
       "      <td>363.266516</td>\n",
       "      <td>18.436524</td>\n",
       "      <td>100.341674</td>\n",
       "      <td>4.628771</td>\n",
       "      <td>0</td>\n",
       "    </tr>\n",
       "    <tr>\n",
       "      <th>1</th>\n",
       "      <td>2</td>\n",
       "      <td>9.092223</td>\n",
       "      <td>181.101509</td>\n",
       "      <td>17978.986339</td>\n",
       "      <td>6.546600</td>\n",
       "      <td>310.135738</td>\n",
       "      <td>398.410813</td>\n",
       "      <td>11.558279</td>\n",
       "      <td>31.997993</td>\n",
       "      <td>4.075075</td>\n",
       "      <td>0</td>\n",
       "    </tr>\n",
       "    <tr>\n",
       "      <th>2</th>\n",
       "      <td>3</td>\n",
       "      <td>5.584087</td>\n",
       "      <td>188.313324</td>\n",
       "      <td>28748.687739</td>\n",
       "      <td>7.544869</td>\n",
       "      <td>326.678363</td>\n",
       "      <td>280.467916</td>\n",
       "      <td>8.399735</td>\n",
       "      <td>54.917862</td>\n",
       "      <td>2.559708</td>\n",
       "      <td>0</td>\n",
       "    </tr>\n",
       "    <tr>\n",
       "      <th>3</th>\n",
       "      <td>4</td>\n",
       "      <td>10.223862</td>\n",
       "      <td>248.071735</td>\n",
       "      <td>28749.716544</td>\n",
       "      <td>7.513408</td>\n",
       "      <td>393.663396</td>\n",
       "      <td>283.651634</td>\n",
       "      <td>13.789695</td>\n",
       "      <td>84.603556</td>\n",
       "      <td>2.672989</td>\n",
       "      <td>0</td>\n",
       "    </tr>\n",
       "    <tr>\n",
       "      <th>4</th>\n",
       "      <td>5</td>\n",
       "      <td>8.635849</td>\n",
       "      <td>203.361523</td>\n",
       "      <td>13672.091764</td>\n",
       "      <td>4.563009</td>\n",
       "      <td>303.309771</td>\n",
       "      <td>474.607645</td>\n",
       "      <td>12.363817</td>\n",
       "      <td>62.798309</td>\n",
       "      <td>4.401425</td>\n",
       "      <td>0</td>\n",
       "    </tr>\n",
       "    <tr>\n",
       "      <th>...</th>\n",
       "      <td>...</td>\n",
       "      <td>...</td>\n",
       "      <td>...</td>\n",
       "      <td>...</td>\n",
       "      <td>...</td>\n",
       "      <td>...</td>\n",
       "      <td>...</td>\n",
       "      <td>...</td>\n",
       "      <td>...</td>\n",
       "      <td>...</td>\n",
       "      <td>...</td>\n",
       "    </tr>\n",
       "    <tr>\n",
       "      <th>2005</th>\n",
       "      <td>2006</td>\n",
       "      <td>8.197353</td>\n",
       "      <td>203.105091</td>\n",
       "      <td>27701.794055</td>\n",
       "      <td>6.472914</td>\n",
       "      <td>328.886838</td>\n",
       "      <td>444.612724</td>\n",
       "      <td>14.250875</td>\n",
       "      <td>62.906205</td>\n",
       "      <td>3.361833</td>\n",
       "      <td>1</td>\n",
       "    </tr>\n",
       "    <tr>\n",
       "      <th>2006</th>\n",
       "      <td>2007</td>\n",
       "      <td>8.989900</td>\n",
       "      <td>215.047358</td>\n",
       "      <td>15921.412018</td>\n",
       "      <td>6.297312</td>\n",
       "      <td>312.931022</td>\n",
       "      <td>390.410231</td>\n",
       "      <td>9.899115</td>\n",
       "      <td>55.069304</td>\n",
       "      <td>4.613843</td>\n",
       "      <td>1</td>\n",
       "    </tr>\n",
       "    <tr>\n",
       "      <th>2007</th>\n",
       "      <td>2008</td>\n",
       "      <td>6.702547</td>\n",
       "      <td>207.321086</td>\n",
       "      <td>17246.920347</td>\n",
       "      <td>7.708117</td>\n",
       "      <td>304.510230</td>\n",
       "      <td>329.266002</td>\n",
       "      <td>16.217303</td>\n",
       "      <td>28.878601</td>\n",
       "      <td>3.442983</td>\n",
       "      <td>1</td>\n",
       "    </tr>\n",
       "    <tr>\n",
       "      <th>2008</th>\n",
       "      <td>2009</td>\n",
       "      <td>11.491011</td>\n",
       "      <td>94.812545</td>\n",
       "      <td>37188.826022</td>\n",
       "      <td>9.263166</td>\n",
       "      <td>258.930600</td>\n",
       "      <td>439.893618</td>\n",
       "      <td>16.172755</td>\n",
       "      <td>41.558501</td>\n",
       "      <td>4.369264</td>\n",
       "      <td>1</td>\n",
       "    </tr>\n",
       "    <tr>\n",
       "      <th>2009</th>\n",
       "      <td>2010</td>\n",
       "      <td>6.069616</td>\n",
       "      <td>186.659040</td>\n",
       "      <td>26138.780191</td>\n",
       "      <td>7.747547</td>\n",
       "      <td>345.700257</td>\n",
       "      <td>415.886955</td>\n",
       "      <td>12.067620</td>\n",
       "      <td>60.419921</td>\n",
       "      <td>3.669712</td>\n",
       "      <td>1</td>\n",
       "    </tr>\n",
       "  </tbody>\n",
       "</table>\n",
       "<p>2010 rows × 11 columns</p>\n",
       "</div>"
      ],
      "text/plain": [
       "        id         pH    Hardness        Solids  Chloramines     Sulfate  \\\n",
       "0        1   8.316766  214.373394  22018.417441     8.059332  356.886136   \n",
       "1        2   9.092223  181.101509  17978.986339     6.546600  310.135738   \n",
       "2        3   5.584087  188.313324  28748.687739     7.544869  326.678363   \n",
       "3        4  10.223862  248.071735  28749.716544     7.513408  393.663396   \n",
       "4        5   8.635849  203.361523  13672.091764     4.563009  303.309771   \n",
       "...    ...        ...         ...           ...          ...         ...   \n",
       "2005  2006   8.197353  203.105091  27701.794055     6.472914  328.886838   \n",
       "2006  2007   8.989900  215.047358  15921.412018     6.297312  312.931022   \n",
       "2007  2008   6.702547  207.321086  17246.920347     7.708117  304.510230   \n",
       "2008  2009  11.491011   94.812545  37188.826022     9.263166  258.930600   \n",
       "2009  2010   6.069616  186.659040  26138.780191     7.747547  345.700257   \n",
       "\n",
       "      Conductivity  OrganicCarbon  Trihalomethanes  Turbidity  Potability  \n",
       "0       363.266516      18.436524       100.341674   4.628771           0  \n",
       "1       398.410813      11.558279        31.997993   4.075075           0  \n",
       "2       280.467916       8.399735        54.917862   2.559708           0  \n",
       "3       283.651634      13.789695        84.603556   2.672989           0  \n",
       "4       474.607645      12.363817        62.798309   4.401425           0  \n",
       "...            ...            ...              ...        ...         ...  \n",
       "2005    444.612724      14.250875        62.906205   3.361833           1  \n",
       "2006    390.410231       9.899115        55.069304   4.613843           1  \n",
       "2007    329.266002      16.217303        28.878601   3.442983           1  \n",
       "2008    439.893618      16.172755        41.558501   4.369264           1  \n",
       "2009    415.886955      12.067620        60.419921   3.669712           1  \n",
       "\n",
       "[2010 rows x 11 columns]"
      ]
     },
     "execution_count": 6,
     "metadata": {},
     "output_type": "execute_result"
    }
   ],
   "source": [
    "import pandas as pd\n",
    "import matplotlib.pyplot as plt\n",
    "import scipy.stats as stats\n",
    "import numpy as np\n",
    "import seaborn as sns\n",
    "\n",
    "coloumn_names = ['id', 'pH', 'Hardness', 'Solids', 'Chloramines', 'Sulfate', 'Conductivity', 'OrganicCarbon', 'Trihalomethanes', 'Turbidity', 'Potability']\n",
    "df = pd.read_csv('water_potability.csv', names=coloumn_names)\n",
    "df"
   ]
  },
  {
   "cell_type": "markdown",
   "metadata": {},
   "source": [
    "### Soal 1\n",
    "Menulis deskripsi statistika (*Descriptive Statistics*) dari semua kolom pada data yang bersifat numerik, terdiri dari mean, median, modus, standar deviasi, variansi, range, nilai minimum, maksimum, kuartil, IQR, skewness dan kurtosis. Boleh juga ditambahkan deskripsi lain."
   ]
  },
  {
   "cell_type": "code",
   "execution_count": 7,
   "metadata": {},
   "outputs": [
    {
     "data": {
      "text/html": [
       "<div>\n",
       "<style scoped>\n",
       "    .dataframe tbody tr th:only-of-type {\n",
       "        vertical-align: middle;\n",
       "    }\n",
       "\n",
       "    .dataframe tbody tr th {\n",
       "        vertical-align: top;\n",
       "    }\n",
       "\n",
       "    .dataframe thead th {\n",
       "        text-align: right;\n",
       "    }\n",
       "</style>\n",
       "<table border=\"1\" class=\"dataframe\">\n",
       "  <thead>\n",
       "    <tr style=\"text-align: right;\">\n",
       "      <th></th>\n",
       "      <th>id</th>\n",
       "      <th>pH</th>\n",
       "      <th>Hardness</th>\n",
       "      <th>Solids</th>\n",
       "      <th>Chloramines</th>\n",
       "      <th>Sulfate</th>\n",
       "      <th>Conductivity</th>\n",
       "      <th>OrganicCarbon</th>\n",
       "      <th>Trihalomethanes</th>\n",
       "      <th>Turbidity</th>\n",
       "      <th>Potability</th>\n",
       "    </tr>\n",
       "  </thead>\n",
       "  <tbody>\n",
       "    <tr>\n",
       "      <th>count</th>\n",
       "      <td>2010.00000</td>\n",
       "      <td>2010.000000</td>\n",
       "      <td>2010.000000</td>\n",
       "      <td>2.010000e+03</td>\n",
       "      <td>2010.000000</td>\n",
       "      <td>2010.000000</td>\n",
       "      <td>2010.000000</td>\n",
       "      <td>2010.000000</td>\n",
       "      <td>2010.000000</td>\n",
       "      <td>2010.000000</td>\n",
       "      <td>2010.000000</td>\n",
       "    </tr>\n",
       "    <tr>\n",
       "      <th>mean</th>\n",
       "      <td>1005.50000</td>\n",
       "      <td>7.087193</td>\n",
       "      <td>195.969209</td>\n",
       "      <td>2.190467e+04</td>\n",
       "      <td>7.134322</td>\n",
       "      <td>333.211376</td>\n",
       "      <td>426.476708</td>\n",
       "      <td>14.357940</td>\n",
       "      <td>66.400717</td>\n",
       "      <td>3.969497</td>\n",
       "      <td>0.402985</td>\n",
       "    </tr>\n",
       "    <tr>\n",
       "      <th>std</th>\n",
       "      <td>580.38134</td>\n",
       "      <td>1.572803</td>\n",
       "      <td>32.643166</td>\n",
       "      <td>8.625398e+03</td>\n",
       "      <td>1.585214</td>\n",
       "      <td>41.211111</td>\n",
       "      <td>80.701872</td>\n",
       "      <td>3.325770</td>\n",
       "      <td>16.081109</td>\n",
       "      <td>0.780471</td>\n",
       "      <td>0.490620</td>\n",
       "    </tr>\n",
       "    <tr>\n",
       "      <th>min</th>\n",
       "      <td>1.00000</td>\n",
       "      <td>0.227499</td>\n",
       "      <td>73.492234</td>\n",
       "      <td>3.209426e+02</td>\n",
       "      <td>1.390871</td>\n",
       "      <td>129.000000</td>\n",
       "      <td>201.619737</td>\n",
       "      <td>2.200000</td>\n",
       "      <td>8.577013</td>\n",
       "      <td>1.450000</td>\n",
       "      <td>0.000000</td>\n",
       "    </tr>\n",
       "    <tr>\n",
       "      <th>25%</th>\n",
       "      <td>503.25000</td>\n",
       "      <td>6.090785</td>\n",
       "      <td>176.740657</td>\n",
       "      <td>1.561441e+04</td>\n",
       "      <td>6.138326</td>\n",
       "      <td>307.626986</td>\n",
       "      <td>366.619219</td>\n",
       "      <td>12.122530</td>\n",
       "      <td>55.949993</td>\n",
       "      <td>3.442882</td>\n",
       "      <td>0.000000</td>\n",
       "    </tr>\n",
       "    <tr>\n",
       "      <th>50%</th>\n",
       "      <td>1005.50000</td>\n",
       "      <td>7.029490</td>\n",
       "      <td>197.203525</td>\n",
       "      <td>2.092688e+04</td>\n",
       "      <td>7.142014</td>\n",
       "      <td>332.214113</td>\n",
       "      <td>423.438372</td>\n",
       "      <td>14.323286</td>\n",
       "      <td>66.482041</td>\n",
       "      <td>3.967374</td>\n",
       "      <td>0.000000</td>\n",
       "    </tr>\n",
       "    <tr>\n",
       "      <th>75%</th>\n",
       "      <td>1507.75000</td>\n",
       "      <td>8.053006</td>\n",
       "      <td>216.447589</td>\n",
       "      <td>2.717053e+04</td>\n",
       "      <td>8.109933</td>\n",
       "      <td>359.268147</td>\n",
       "      <td>482.209772</td>\n",
       "      <td>16.683562</td>\n",
       "      <td>77.294613</td>\n",
       "      <td>4.514663</td>\n",
       "      <td>1.000000</td>\n",
       "    </tr>\n",
       "    <tr>\n",
       "      <th>max</th>\n",
       "      <td>2010.00000</td>\n",
       "      <td>14.000000</td>\n",
       "      <td>317.338124</td>\n",
       "      <td>5.648867e+04</td>\n",
       "      <td>13.127000</td>\n",
       "      <td>481.030642</td>\n",
       "      <td>753.342620</td>\n",
       "      <td>27.006707</td>\n",
       "      <td>124.000000</td>\n",
       "      <td>6.494749</td>\n",
       "      <td>1.000000</td>\n",
       "    </tr>\n",
       "    <tr>\n",
       "      <th>variansi</th>\n",
       "      <td>336842.50000</td>\n",
       "      <td>2.473709</td>\n",
       "      <td>1065.576277</td>\n",
       "      <td>7.439749e+07</td>\n",
       "      <td>2.512904</td>\n",
       "      <td>1698.355672</td>\n",
       "      <td>6512.792113</td>\n",
       "      <td>11.060746</td>\n",
       "      <td>258.602066</td>\n",
       "      <td>0.609135</td>\n",
       "      <td>0.240708</td>\n",
       "    </tr>\n",
       "    <tr>\n",
       "      <th>range</th>\n",
       "      <td>2009.00000</td>\n",
       "      <td>13.772501</td>\n",
       "      <td>243.845890</td>\n",
       "      <td>5.616773e+04</td>\n",
       "      <td>11.736129</td>\n",
       "      <td>352.030642</td>\n",
       "      <td>551.722883</td>\n",
       "      <td>24.806707</td>\n",
       "      <td>115.422987</td>\n",
       "      <td>5.044749</td>\n",
       "      <td>1.000000</td>\n",
       "    </tr>\n",
       "    <tr>\n",
       "      <th>IQR</th>\n",
       "      <td>1004.50000</td>\n",
       "      <td>1.962221</td>\n",
       "      <td>39.706932</td>\n",
       "      <td>1.155612e+04</td>\n",
       "      <td>1.971607</td>\n",
       "      <td>51.641161</td>\n",
       "      <td>115.590553</td>\n",
       "      <td>4.561031</td>\n",
       "      <td>21.344620</td>\n",
       "      <td>1.071781</td>\n",
       "      <td>1.000000</td>\n",
       "    </tr>\n",
       "    <tr>\n",
       "      <th>skewness</th>\n",
       "      <td>0.00000</td>\n",
       "      <td>0.048535</td>\n",
       "      <td>-0.085321</td>\n",
       "      <td>5.910114e-01</td>\n",
       "      <td>0.013003</td>\n",
       "      <td>-0.045728</td>\n",
       "      <td>0.268012</td>\n",
       "      <td>-0.020220</td>\n",
       "      <td>-0.051383</td>\n",
       "      <td>-0.032266</td>\n",
       "      <td>0.395873</td>\n",
       "    </tr>\n",
       "    <tr>\n",
       "      <th>kurtosis</th>\n",
       "      <td>-1.20000</td>\n",
       "      <td>0.626904</td>\n",
       "      <td>0.525480</td>\n",
       "      <td>3.373203e-01</td>\n",
       "      <td>0.549782</td>\n",
       "      <td>0.786854</td>\n",
       "      <td>-0.237206</td>\n",
       "      <td>0.031018</td>\n",
       "      <td>0.223017</td>\n",
       "      <td>-0.049831</td>\n",
       "      <td>-1.845122</td>\n",
       "    </tr>\n",
       "  </tbody>\n",
       "</table>\n",
       "</div>"
      ],
      "text/plain": [
       "                    id           pH     Hardness        Solids  Chloramines  \\\n",
       "count       2010.00000  2010.000000  2010.000000  2.010000e+03  2010.000000   \n",
       "mean        1005.50000     7.087193   195.969209  2.190467e+04     7.134322   \n",
       "std          580.38134     1.572803    32.643166  8.625398e+03     1.585214   \n",
       "min            1.00000     0.227499    73.492234  3.209426e+02     1.390871   \n",
       "25%          503.25000     6.090785   176.740657  1.561441e+04     6.138326   \n",
       "50%         1005.50000     7.029490   197.203525  2.092688e+04     7.142014   \n",
       "75%         1507.75000     8.053006   216.447589  2.717053e+04     8.109933   \n",
       "max         2010.00000    14.000000   317.338124  5.648867e+04    13.127000   \n",
       "variansi  336842.50000     2.473709  1065.576277  7.439749e+07     2.512904   \n",
       "range       2009.00000    13.772501   243.845890  5.616773e+04    11.736129   \n",
       "IQR         1004.50000     1.962221    39.706932  1.155612e+04     1.971607   \n",
       "skewness       0.00000     0.048535    -0.085321  5.910114e-01     0.013003   \n",
       "kurtosis      -1.20000     0.626904     0.525480  3.373203e-01     0.549782   \n",
       "\n",
       "              Sulfate  Conductivity  OrganicCarbon  Trihalomethanes  \\\n",
       "count     2010.000000   2010.000000    2010.000000      2010.000000   \n",
       "mean       333.211376    426.476708      14.357940        66.400717   \n",
       "std         41.211111     80.701872       3.325770        16.081109   \n",
       "min        129.000000    201.619737       2.200000         8.577013   \n",
       "25%        307.626986    366.619219      12.122530        55.949993   \n",
       "50%        332.214113    423.438372      14.323286        66.482041   \n",
       "75%        359.268147    482.209772      16.683562        77.294613   \n",
       "max        481.030642    753.342620      27.006707       124.000000   \n",
       "variansi  1698.355672   6512.792113      11.060746       258.602066   \n",
       "range      352.030642    551.722883      24.806707       115.422987   \n",
       "IQR         51.641161    115.590553       4.561031        21.344620   \n",
       "skewness    -0.045728      0.268012      -0.020220        -0.051383   \n",
       "kurtosis     0.786854     -0.237206       0.031018         0.223017   \n",
       "\n",
       "            Turbidity   Potability  \n",
       "count     2010.000000  2010.000000  \n",
       "mean         3.969497     0.402985  \n",
       "std          0.780471     0.490620  \n",
       "min          1.450000     0.000000  \n",
       "25%          3.442882     0.000000  \n",
       "50%          3.967374     0.000000  \n",
       "75%          4.514663     1.000000  \n",
       "max          6.494749     1.000000  \n",
       "variansi     0.609135     0.240708  \n",
       "range        5.044749     1.000000  \n",
       "IQR          1.071781     1.000000  \n",
       "skewness    -0.032266     0.395873  \n",
       "kurtosis    -0.049831    -1.845122  "
      ]
     },
     "execution_count": 7,
     "metadata": {},
     "output_type": "execute_result"
    }
   ],
   "source": [
    "df1 = df.describe(include=[np.number])\n",
    "# df1.loc['mean'] = df.mean()\n",
    "# df1.loc['modus'] = df.mode(\"\")[0]\n",
    "# df1.loc['standar deviasi'] = df.std()\n",
    "df1.loc['variansi'] = df.var()\n",
    "df1.loc['range'] = df.max() - df.min()\n",
    "# df1.loc['nilai minimum'] = df.min()\n",
    "# df1.loc['nilai maksimum'] = df.max()\n",
    "# df1.loc['kuartil bawah'] = df.quantile(0.25)\n",
    "# df1.loc['kuartil tengah'] = df.quantile(0.5)\n",
    "# df1.loc['kuartil atas'] = df.quantile(0.75)\n",
    "df1.loc['IQR'] = df.quantile(0.75) - df.quantile(0.25)\n",
    "df1.loc['skewness'] = df.skew()\n",
    "df1.loc['kurtosis'] = df.kurt()\n",
    "df1"
   ]
  },
  {
   "cell_type": "markdown",
   "metadata": {},
   "source": [
    "### Soal 2\n",
    "Membuat Visualisasi plot distribusi, dalam bentuk histogram dan boxplot untuk setiap kolom numerik. Berikan uraian penjelasan kondisi setiap kolom berdasarkan kedua plot tersebut."
   ]
  },
  {
   "cell_type": "markdown",
   "metadata": {},
   "source": [
    "#### pH"
   ]
  },
  {
   "cell_type": "code",
   "execution_count": 8,
   "metadata": {},
   "outputs": [
    {
     "data": {
      "image/png": "[encoded data removed]",
      "text/plain": [
       "<Figure size 432x288 with 1 Axes>"
      ]
     },
     "metadata": {
      "needs_background": "light"
     },
     "output_type": "display_data"
    }
   ],
   "source": [
    "sns.histplot(df[\"pH\"], kde=True)"
   ]
  },
  {
   "cell_type": "code",
   "execution_count": 11,
   "metadata": {},
   "outputs": [
    {
     "data": {
      "text/plain": [
       "<AxesSubplot:>"
      ]
     },
     "execution_count": 11,
     "metadata": {},
     "output_type": "execute_result"
    },
    {
     "data": {
      "image/png": "[encoded data removed]",
      "text/plain": [
       "<Figure size 432x288 with 1 Axes>"
      ]
     },
     "metadata": {
      "needs_background": "light"
     },
     "output_type": "display_data"
    }
   ],
   "source": [
    "df.boxplot(\"pH\")"
   ]
  },
  {
   "cell_type": "markdown",
   "metadata": {},
   "source": [
    "#### Hardness"
   ]
  },
  {
   "cell_type": "code",
   "execution_count": 12,
   "metadata": {},
   "outputs": [
    {
     "data": {
      "text/plain": [
       "<AxesSubplot:xlabel='Hardness', ylabel='Count'>"
      ]
     },
     "execution_count": 12,
     "metadata": {},
     "output_type": "execute_result"
    },
    {
     "data": {
      "image/png": "[encoded data removed]",
      "text/plain": [
       "<Figure size 432x288 with 1 Axes>"
      ]
     },
     "metadata": {
      "needs_background": "light"
     },
     "output_type": "display_data"
    }
   ],
   "source": [
    "sns.histplot(df[\"Hardness\"], kde=True)"
   ]
  },
  {
   "cell_type": "code",
   "execution_count": 13,
   "metadata": {},
   "outputs": [
    {
     "data": {
      "text/plain": [
       "<AxesSubplot:>"
      ]
     },
     "execution_count": 13,
     "metadata": {},
     "output_type": "execute_result"
    },
    {
     "data": {
      "image/png": "[encoded data removed]",
      "text/plain": [
       "<Figure size 432x288 with 1 Axes>"
      ]
     },
     "metadata": {
      "needs_background": "light"
     },
     "output_type": "display_data"
    }
   ],
   "source": [
    "df.boxplot(\"Hardness\")"
   ]
  },
  {
   "cell_type": "markdown",
   "metadata": {},
   "source": [
    "#### Solids"
   ]
  },
  {
   "cell_type": "code",
   "execution_count": 16,
   "metadata": {},
   "outputs": [
    {
     "data": {
      "text/plain": [
       "<AxesSubplot:xlabel='Solids', ylabel='Count'>"
      ]
     },
     "execution_count": 16,
     "metadata": {},
     "output_type": "execute_result"
    },
    {
     "data": {
      "image/png": "[encoded data removed]",
      "text/plain": [
       "<Figure size 432x288 with 1 Axes>"
      ]
     },
     "metadata": {
      "needs_background": "light"
     },
     "output_type": "display_data"
    }
   ],
   "source": [
    "sns.histplot(df[\"Solids\"], kde=True)"
   ]
  },
  {
   "cell_type": "code",
   "execution_count": 17,
   "metadata": {},
   "outputs": [
    {
     "data": {
      "text/plain": [
       "<AxesSubplot:>"
      ]
     },
     "execution_count": 17,
     "metadata": {},
     "output_type": "execute_result"
    },
    {
     "data": {
      "image/png": "[encoded data removed]",
      "text/plain": [
       "<Figure size 432x288 with 1 Axes>"
      ]
     },
     "metadata": {
      "needs_background": "light"
     },
     "output_type": "display_data"
    }
   ],
   "source": [
    "df.boxplot(\"Solids\")"
   ]
  },
  {
   "cell_type": "markdown",
   "metadata": {},
   "source": [
    "#### Chloramines"
   ]
  },
  {
   "cell_type": "code",
   "execution_count": 18,
   "metadata": {},
   "outputs": [
    {
     "data": {
      "text/plain": [
       "<AxesSubplot:xlabel='Chloramines', ylabel='Count'>"
      ]
     },
     "execution_count": 18,
     "metadata": {},
     "output_type": "execute_result"
    },
    {
     "data": {
      "image/png": "[encoded data removed]",
      "text/plain": [
       "<Figure size 432x288 with 1 Axes>"
      ]
     },
     "metadata": {
      "needs_background": "light"
     },
     "output_type": "display_data"
    }
   ],
   "source": [
    "sns.histplot(df[\"Chloramines\"], kde=True)"
   ]
  },
  {
   "cell_type": "code",
   "execution_count": 19,
   "metadata": {},
   "outputs": [
    {
     "data": {
      "text/plain": [
       "<AxesSubplot:>"
      ]
     },
     "execution_count": 19,
     "metadata": {},
     "output_type": "execute_result"
    },
    {
     "data": {
      "image/png": "[encoded data removed]",
      "text/plain": [
       "<Figure size 432x288 with 1 Axes>"
      ]
     },
     "metadata": {
      "needs_background": "light"
     },
     "output_type": "display_data"
    }
   ],
   "source": [
    "df.boxplot(\"Chloramines\")"
   ]
  },
  {
   "cell_type": "markdown",
   "metadata": {},
   "source": [
    "#### Sulfate"
   ]
  },
  {
   "cell_type": "code",
   "execution_count": 20,
   "metadata": {},
   "outputs": [
    {
     "data": {
      "text/plain": [
       "<AxesSubplot:xlabel='Sulfate', ylabel='Count'>"
      ]
     },
     "execution_count": 20,
     "metadata": {},
     "output_type": "execute_result"
    },
    {
     "data": {
      "image/png": "[encoded data removed]",
      "text/plain": [
       "<Figure size 432x288 with 1 Axes>"
      ]
     },
     "metadata": {
      "needs_background": "light"
     },
     "output_type": "display_data"
    }
   ],
   "source": [
    "sns.histplot(df[\"Sulfate\"], kde=True)"
   ]
  },
  {
   "cell_type": "code",
   "execution_count": 21,
   "metadata": {},
   "outputs": [
    {
     "data": {
      "text/plain": [
       "<AxesSubplot:>"
      ]
     },
     "execution_count": 21,
     "metadata": {},
     "output_type": "execute_result"
    },
    {
     "data": {
      "image/png": "[encoded data removed]",
      "text/plain": [
       "<Figure size 432x288 with 1 Axes>"
      ]
     },
     "metadata": {
      "needs_background": "light"
     },
     "output_type": "display_data"
    }
   ],
   "source": [
    "df.boxplot(\"Sulfate\")"
   ]
  },
  {
   "cell_type": "markdown",
   "metadata": {},
   "source": [
    "#### Conductivity"
   ]
  },
  {
   "cell_type": "code",
   "execution_count": 22,
   "metadata": {},
   "outputs": [
    {
     "data": {
      "text/plain": [
       "<AxesSubplot:xlabel='Conductivity', ylabel='Count'>"
      ]
     },
     "execution_count": 22,
     "metadata": {},
     "output_type": "execute_result"
    },
    {
     "data": {
      "image/png": "[encoded data removed]",
      "text/plain": [
       "<Figure size 432x288 with 1 Axes>"
      ]
     },
     "metadata": {
      "needs_background": "light"
     },
     "output_type": "display_data"
    }
   ],
   "source": [
    "sns.histplot(df[\"Conductivity\"], kde=True)"
   ]
  },
  {
   "cell_type": "code",
   "execution_count": 23,
   "metadata": {},
   "outputs": [
    {
     "data": {
      "text/plain": [
       "<AxesSubplot:>"
      ]
     },
     "execution_count": 23,
     "metadata": {},
     "output_type": "execute_result"
    },
    {
     "data": {
      "image/png": "[encoded data removed]",
      "text/plain": [
       "<Figure size 432x288 with 1 Axes>"
      ]
     },
     "metadata": {
      "needs_background": "light"
     },
     "output_type": "display_data"
    }
   ],
   "source": [
    "df.boxplot(\"Conductivity\")"
   ]
  },
  {
   "cell_type": "markdown",
   "metadata": {},
   "source": [
    "#### OrganicCarbon"
   ]
  },
  {
   "cell_type": "code",
   "execution_count": 24,
   "metadata": {},
   "outputs": [
    {
     "data": {
      "text/plain": [
       "<AxesSubplot:xlabel='OrganicCarbon', ylabel='Count'>"
      ]
     },
     "execution_count": 24,
     "metadata": {},
     "output_type": "execute_result"
    },
    {
     "data": {
      "image/png": "[encoded data removed]",
      "text/plain": [
       "<Figure size 432x288 with 1 Axes>"
      ]
     },
     "metadata": {
      "needs_background": "light"
     },
     "output_type": "display_data"
    }
   ],
   "source": [
    "sns.histplot(df[\"OrganicCarbon\"], kde=True)"
   ]
  },
  {
   "cell_type": "code",
   "execution_count": 25,
   "metadata": {},
   "outputs": [
    {
     "data": {
      "text/plain": [
       "<AxesSubplot:>"
      ]
     },
     "execution_count": 25,
     "metadata": {},
     "output_type": "execute_result"
    },
    {
     "data": {
      "image/png": "[encoded data removed]",
      "text/plain": [
       "<Figure size 432x288 with 1 Axes>"
      ]
     },
     "metadata": {
      "needs_background": "light"
     },
     "output_type": "display_data"
    }
   ],
   "source": [
    "df.boxplot(\"OrganicCarbon\")"
   ]
  },
  {
   "cell_type": "markdown",
   "metadata": {},
   "source": [
    "#### Trihalomethanes"
   ]
  },
  {
   "cell_type": "code",
   "execution_count": 26,
   "metadata": {},
   "outputs": [
    {
     "data": {
      "text/plain": [
       "<AxesSubplot:xlabel='Trihalomethanes', ylabel='Count'>"
      ]
     },
     "execution_count": 26,
     "metadata": {},
     "output_type": "execute_result"
    },
    {
     "data": {
      "image/png": "[encoded data removed]",
      "text/plain": [
       "<Figure size 432x288 with 1 Axes>"
      ]
     },
     "metadata": {
      "needs_background": "light"
     },
     "output_type": "display_data"
    }
   ],
   "source": [
    "sns.histplot(df[\"Trihalomethanes\"], kde=True)"
   ]
  },
  {
   "cell_type": "code",
   "execution_count": 28,
   "metadata": {},
   "outputs": [
    {
     "data": {
      "text/plain": [
       "<AxesSubplot:>"
      ]
     },
     "execution_count": 28,
     "metadata": {},
     "output_type": "execute_result"
    },
    {
     "data": {
      "image/png": "[encoded data removed]",
      "text/plain": [
       "<Figure size 432x288 with 1 Axes>"
      ]
     },
     "metadata": {
      "needs_background": "light"
     },
     "output_type": "display_data"
    }
   ],
   "source": [
    "df.boxplot(\"Trihalomethanes\")"
   ]
  },
  {
   "cell_type": "markdown",
   "metadata": {},
   "source": [
    "#### Turbidity"
   ]
  },
  {
   "cell_type": "code",
   "execution_count": 29,
   "metadata": {},
   "outputs": [
    {
     "data": {
      "text/plain": [
       "<AxesSubplot:xlabel='Turbidity', ylabel='Count'>"
      ]
     },
     "execution_count": 29,
     "metadata": {},
     "output_type": "execute_result"
    },
    {
     "data": {
      "image/png": "[encoded data removed]",
      "text/plain": [
       "<Figure size 432x288 with 1 Axes>"
      ]
     },
     "metadata": {
      "needs_background": "light"
     },
     "output_type": "display_data"
    }
   ],
   "source": [
    "sns.histplot(df[\"Turbidity\"], kde=True)"
   ]
  },
  {
   "cell_type": "code",
   "execution_count": 30,
   "metadata": {},
   "outputs": [
    {
     "data": {
      "text/plain": [
       "<AxesSubplot:>"
      ]
     },
     "execution_count": 30,
     "metadata": {},
     "output_type": "execute_result"
    },
    {
     "data": {
      "image/png": "[encoded data removed]",
      "text/plain": [
       "<Figure size 432x288 with 1 Axes>"
      ]
     },
     "metadata": {
      "needs_background": "light"
     },
     "output_type": "display_data"
    }
   ],
   "source": [
    "df.boxplot(\"Turbidity\")"
   ]
  },
  {
   "cell_type": "markdown",
   "metadata": {},
   "source": [
    "### Soal 3\n",
    "Menentukan setiap kolom numerik berdistribusi normal atau tidak. Gunakan normality test yang dikaitkan dengan histogram plot."
   ]
  },
  {
   "cell_type": "code",
   "execution_count": 9,
   "metadata": {},
   "outputs": [],
   "source": [
    "from scipy.stats import normaltest"
   ]
  },
  {
   "cell_type": "markdown",
   "metadata": {},
   "source": [
    "D’Agostino’s K-squared test check’s normality of a variable based on skewness and kurtosis. It was named by Ralph D’Agostino.\n",
    "- Skewness is a measure of symmetry.\n",
    "- Kurtosis is a measure of whether the data are heavy-tailed or light-tailed relative to a normal distribution."
   ]
  },
  {
   "cell_type": "code",
   "execution_count": 10,
   "metadata": {},
   "outputs": [
    {
     "data": {
      "text/plain": [
       "<AxesSubplot:xlabel='id', ylabel='Count'>"
      ]
     },
     "execution_count": 10,
     "metadata": {},
     "output_type": "execute_result"
    },
    {
     "data": {
      "image/png": "[encoded data removed]",
      "text/plain": [
       "<Figure size 432x288 with 1 Axes>"
      ]
     },
     "metadata": {
      "needs_background": "light"
     },
     "output_type": "display_data"
    }
   ],
   "source": [
    "sns.histplot(df[\"id\"], kde=True)"
   ]
  },
  {
   "cell_type": "code",
   "execution_count": 5,
   "metadata": {},
   "outputs": [
    {
     "name": "stdout",
     "output_type": "stream",
     "text": [
      "stat=1615.941, p=0.000\n",
      "Tidak Berdistribusi Normal\n"
     ]
    }
   ],
   "source": [
    "stat, p = normaltest(df[\"id\"])\n",
    "print('stat=%.3f, p=%.3f' % (stat, p))\n",
    "if p > 0.05:\n",
    "    print('Berdistribusi Normal')\n",
    "else:\n",
    "    print('Tidak Berdistribusi Normal')"
   ]
  },
  {
   "cell_type": "code",
   "execution_count": 6,
   "metadata": {},
   "outputs": [
    {
     "data": {
      "text/plain": [
       "<AxesSubplot:xlabel='pH', ylabel='Count'>"
      ]
     },
     "execution_count": 6,
     "metadata": {},
     "output_type": "execute_result"
    },
    {
     "data": {
      "image/png": "[encoded data removed]",
      "text/plain": [
       "<Figure size 432x288 with 1 Axes>"
      ]
     },
     "metadata": {
      "needs_background": "light"
     },
     "output_type": "display_data"
    }
   ],
   "source": [
    "sns.histplot(df[\"pH\"], kde=True)"
   ]
  },
  {
   "cell_type": "code",
   "execution_count": 7,
   "metadata": {},
   "outputs": [
    {
     "name": "stdout",
     "output_type": "stream",
     "text": [
      "stat=21.076, p=0.000\n",
      "Tidak Berdistribusi Normal\n"
     ]
    }
   ],
   "source": [
    "stat, p = normaltest(df[\"pH\"])\n",
    "print('stat=%.3f, p=%.3f' % (stat, p))\n",
    "if p > 0.05:\n",
    "    print('Berdistribusi Normal')\n",
    "else:\n",
    "    print('Tidak Berdistribusi Normal')\n"
   ]
  },
  {
   "cell_type": "code",
   "execution_count": 8,
   "metadata": {},
   "outputs": [
    {
     "data": {
      "text/plain": [
       "<AxesSubplot:xlabel='Hardness', ylabel='Count'>"
      ]
     },
     "execution_count": 8,
     "metadata": {},
     "output_type": "execute_result"
    },
    {
     "data": {
      "image/png": "[encoded data removed]",
      "text/plain": [
       "<Figure size 432x288 with 1 Axes>"
      ]
     },
     "metadata": {
      "needs_background": "light"
     },
     "output_type": "display_data"
    }
   ],
   "source": [
    "sns.histplot(df[\"Hardness\"], kde=True)"
   ]
  },
  {
   "cell_type": "code",
   "execution_count": 9,
   "metadata": {},
   "outputs": [
    {
     "name": "stdout",
     "output_type": "stream",
     "text": [
      "stat=21.076, p=0.000\n",
      "Tidak Berdistribusi Normal\n"
     ]
    }
   ],
   "source": [
    "stat, p = normaltest(df[\"pH\"])\n",
    "print('stat=%.3f, p=%.3f' % (stat, p))\n",
    "if p > 0.05:\n",
    "    print('Berdistribusi Normal')\n",
    "else:\n",
    "    print('Tidak Berdistribusi Normal')"
   ]
  },
  {
   "cell_type": "code",
   "execution_count": 10,
   "metadata": {},
   "outputs": [
    {
     "data": {
      "text/plain": [
       "<AxesSubplot:xlabel='Solids', ylabel='Count'>"
      ]
     },
     "execution_count": 10,
     "metadata": {},
     "output_type": "execute_result"
    },
    {
     "data": {
      "image/png": "[encoded data removed]",
      "text/plain": [
       "<Figure size 432x288 with 1 Axes>"
      ]
     },
     "metadata": {
      "needs_background": "light"
     },
     "output_type": "display_data"
    }
   ],
   "source": [
    "sns.histplot(df[\"Solids\"], kde=True)"
   ]
  },
  {
   "cell_type": "code",
   "execution_count": 11,
   "metadata": {},
   "outputs": [
    {
     "name": "stdout",
     "output_type": "stream",
     "text": [
      "stat=109.060, p=0.000\n",
      "Tidak Berdistribusi Normal\n"
     ]
    }
   ],
   "source": [
    "stat, p = normaltest(df[\"Solids\"])\n",
    "print('stat=%.3f, p=%.3f' % (stat, p))\n",
    "if p > 0.05:\n",
    "    print('Berdistribusi Normal')\n",
    "else:\n",
    "    print('Tidak Berdistribusi Normal')"
   ]
  },
  {
   "cell_type": "code",
   "execution_count": 12,
   "metadata": {},
   "outputs": [
    {
     "data": {
      "text/plain": [
       "<AxesSubplot:xlabel='Chloramines', ylabel='Count'>"
      ]
     },
     "execution_count": 12,
     "metadata": {},
     "output_type": "execute_result"
    },
    {
     "data": {
      "image/png": "[encoded data removed]",
      "text/plain": [
       "<Figure size 432x288 with 1 Axes>"
      ]
     },
     "metadata": {
      "needs_background": "light"
     },
     "output_type": "display_data"
    }
   ],
   "source": [
    "sns.histplot(df[\"Chloramines\"], kde=True)"
   ]
  },
  {
   "cell_type": "code",
   "execution_count": 13,
   "metadata": {},
   "outputs": [
    {
     "name": "stdout",
     "output_type": "stream",
     "text": [
      "stat=16.584, p=0.000\n",
      "Tidak Berdistribusi Normal\n"
     ]
    }
   ],
   "source": [
    "stat, p = normaltest(df[\"Chloramines\"])\n",
    "print('stat=%.3f, p=%.3f' % (stat, p))\n",
    "if p > 0.05:\n",
    "    print('Berdistribusi Normal')\n",
    "else:\n",
    "    print('Tidak Berdistribusi Normal')"
   ]
  },
  {
   "cell_type": "code",
   "execution_count": 14,
   "metadata": {},
   "outputs": [
    {
     "data": {
      "text/plain": [
       "<AxesSubplot:xlabel='Sulfate', ylabel='Count'>"
      ]
     },
     "execution_count": 14,
     "metadata": {},
     "output_type": "execute_result"
    },
    {
     "data": {
      "image/png": "[encoded data removed]",
      "text/plain": [
       "<Figure size 432x288 with 1 Axes>"
      ]
     },
     "metadata": {
      "needs_background": "light"
     },
     "output_type": "display_data"
    }
   ],
   "source": [
    "sns.histplot(df[\"Sulfate\"], kde=True)"
   ]
  },
  {
   "cell_type": "code",
   "execution_count": 15,
   "metadata": {},
   "outputs": [
    {
     "name": "stdout",
     "output_type": "stream",
     "text": [
      "stat=29.261, p=0.000\n",
      "Tidak Berdistribusi Normal\n"
     ]
    }
   ],
   "source": [
    "stat, p = normaltest(df[\"Sulfate\"])\n",
    "print('stat=%.3f, p=%.3f' % (stat, p))\n",
    "if p > 0.05:\n",
    "    print('Berdistribusi Normal')\n",
    "else:\n",
    "    print('Tidak Berdistribusi Normal')"
   ]
  },
  {
   "cell_type": "code",
   "execution_count": 16,
   "metadata": {},
   "outputs": [
    {
     "data": {
      "text/plain": [
       "<AxesSubplot:xlabel='Conductivity', ylabel='Count'>"
      ]
     },
     "execution_count": 16,
     "metadata": {},
     "output_type": "execute_result"
    },
    {
     "data": {
      "image/png": "[encoded data removed]",
      "text/plain": [
       "<Figure size 432x288 with 1 Axes>"
      ]
     },
     "metadata": {
      "needs_background": "light"
     },
     "output_type": "display_data"
    }
   ],
   "source": [
    "sns.histplot(df[\"Conductivity\"], kde=True)"
   ]
  },
  {
   "cell_type": "code",
   "execution_count": 17,
   "metadata": {},
   "outputs": [
    {
     "name": "stdout",
     "output_type": "stream",
     "text": [
      "stat=29.277, p=0.000\n",
      "Tidak Berdistribusi Normal\n"
     ]
    }
   ],
   "source": [
    "stat, p = normaltest(df[\"Conductivity\"])\n",
    "print('stat=%.3f, p=%.3f' % (stat, p))\n",
    "if p > 0.05:\n",
    "    print('Berdistribusi Normal')\n",
    "else:\n",
    "    print('Tidak Berdistribusi Normal')"
   ]
  },
  {
   "cell_type": "code",
   "execution_count": 18,
   "metadata": {},
   "outputs": [
    {
     "data": {
      "text/plain": [
       "<AxesSubplot:xlabel='OrganicCarbon', ylabel='Count'>"
      ]
     },
     "execution_count": 18,
     "metadata": {},
     "output_type": "execute_result"
    },
    {
     "data": {
      "image/png": "[encoded data removed]",
      "text/plain": [
       "<Figure size 432x288 with 1 Axes>"
      ]
     },
     "metadata": {
      "needs_background": "light"
     },
     "output_type": "display_data"
    }
   ],
   "source": [
    "sns.histplot(df[\"OrganicCarbon\"], kde=True)"
   ]
  },
  {
   "cell_type": "code",
   "execution_count": 19,
   "metadata": {},
   "outputs": [
    {
     "name": "stdout",
     "output_type": "stream",
     "text": [
      "stat=0.250, p=0.883\n",
      "Berdistribusi Normal\n"
     ]
    }
   ],
   "source": [
    "stat, p = normaltest(df[\"OrganicCarbon\"])\n",
    "print('stat=%.3f, p=%.3f' % (stat, p))\n",
    "if p > 0.05:\n",
    "    print('Berdistribusi Normal')\n",
    "else:\n",
    "    print('Tidak Berdistribusi Normal')"
   ]
  },
  {
   "cell_type": "code",
   "execution_count": 20,
   "metadata": {},
   "outputs": [
    {
     "data": {
      "text/plain": [
       "<AxesSubplot:xlabel='Trihalomethanes', ylabel='Count'>"
      ]
     },
     "execution_count": 20,
     "metadata": {},
     "output_type": "execute_result"
    },
    {
     "data": {
      "image/png": "[encoded data removed]",
      "text/plain": [
       "<Figure size 432x288 with 1 Axes>"
      ]
     },
     "metadata": {
      "needs_background": "light"
     },
     "output_type": "display_data"
    }
   ],
   "source": [
    "sns.histplot(df[\"Trihalomethanes\"], kde=True)"
   ]
  },
  {
   "cell_type": "code",
   "execution_count": 21,
   "metadata": {},
   "outputs": [
    {
     "name": "stdout",
     "output_type": "stream",
     "text": [
      "stat=4.520, p=0.104\n",
      "Berdistribusi Normal\n"
     ]
    }
   ],
   "source": [
    "stat, p = normaltest(df[\"Trihalomethanes\"])\n",
    "print('stat=%.3f, p=%.3f' % (stat, p))\n",
    "if p > 0.05:\n",
    "    print('Berdistribusi Normal')\n",
    "else:\n",
    "    print('Tidak Berdistribusi Normal')"
   ]
  },
  {
   "cell_type": "code",
   "execution_count": 22,
   "metadata": {},
   "outputs": [
    {
     "data": {
      "text/plain": [
       "<AxesSubplot:xlabel='Turbidity', ylabel='Count'>"
      ]
     },
     "execution_count": 22,
     "metadata": {},
     "output_type": "execute_result"
    },
    {
     "data": {
      "image/png": "[encoded data removed]",
      "text/plain": [
       "<Figure size 432x288 with 1 Axes>"
      ]
     },
     "metadata": {
      "needs_background": "light"
     },
     "output_type": "display_data"
    }
   ],
   "source": [
    "sns.histplot(df[\"Turbidity\"], kde=True)"
   ]
  },
  {
   "cell_type": "code",
   "execution_count": 23,
   "metadata": {},
   "outputs": [
    {
     "name": "stdout",
     "output_type": "stream",
     "text": [
      "stat=0.524, p=0.769\n",
      "Berdistribusi Normal\n"
     ]
    }
   ],
   "source": [
    "stat, p = normaltest(df[\"Turbidity\"])\n",
    "print('stat=%.3f, p=%.3f' % (stat, p))\n",
    "if p > 0.05:\n",
    "    print('Berdistribusi Normal')\n",
    "else:\n",
    "    print('Tidak Berdistribusi Normal')"
   ]
  },
  {
   "cell_type": "code",
   "execution_count": 24,
   "metadata": {},
   "outputs": [
    {
     "data": {
      "text/plain": [
       "<AxesSubplot:xlabel='Potability', ylabel='Count'>"
      ]
     },
     "execution_count": 24,
     "metadata": {},
     "output_type": "execute_result"
    },
    {
     "data": {
      "image/png": "[encoded data removed]",
      "text/plain": [
       "<Figure size 432x288 with 1 Axes>"
      ]
     },
     "metadata": {
      "needs_background": "light"
     },
     "output_type": "display_data"
    }
   ],
   "source": [
    "sns.histplot(df[\"Potability\"], kde=True)"
   ]
  },
  {
   "cell_type": "code",
   "execution_count": 25,
   "metadata": {},
   "outputs": [
    {
     "name": "stdout",
     "output_type": "stream",
     "text": [
      "stat=8042.892, p=0.000\n",
      "Tidak Berdistribusi Normal\n"
     ]
    }
   ],
   "source": [
    "stat, p = normaltest(df[\"Potability\"])\n",
    "print('stat=%.3f, p=%.3f' % (stat, p))\n",
    "if p > 0.05:\n",
    "    print('Berdistribusi Normal')\n",
    "else:\n",
    "    print('Tidak Berdistribusi Normal')"
   ]
  },
  {
   "cell_type": "markdown",
   "metadata": {},
   "source": [
    "### Soal 4\n",
    "Melakukan test hipotesis 1 sampel, dengan menuliskan 6 langkah testing dan menampilkan juga boxplotnya untuk kolom/bagian yang bersesuaian.\n",
    "- a. Nilai Rata-rata pH di atas 7?\n",
    "- b. Nilai Rata-rata Hardness tidak sama dengan 205?\n",
    "- c. Nilai Rata-rata 100 baris pertama kolom Solids bukan 21900?\n",
    "- d. Proporsi nilai Conductivity yang lebih dari 450, adalah tidak sama dengan 10%?\n",
    "- e. Proporsi nilai Trihalomethanes yang kurang dari 40, adalah kurang dari 5%?"
   ]
  },
  {
   "cell_type": "code",
   "execution_count": 72,
   "metadata": {},
   "outputs": [],
   "source": [
    "def zScore1(X,u0,simpbaku,n):\n",
    "    return (X-u0)/(simpbaku/n**(1/2))\n",
    "def zScore2(p,p0,q0,n):\n",
    "    return (p-p0)/(p0*q0/n)**(1/2)"
   ]
  },
  {
   "cell_type": "code",
   "execution_count": 73,
   "metadata": {},
   "outputs": [
    {
     "name": "stdout",
     "output_type": "stream",
     "text": [
      "a. Nilai rata-rata pH di atas 7\n",
      "1. H0 : μ=7\n",
      "2. H1 : μ>7\n",
      "3. α = 0.05\n",
      "4. Uji Statistik : z=(x̄-μ0)/(σ/sqrt(n))\n",
      "   Daerah Kritis : z>zα : z >1.645\n",
      "5. Komputasi\n",
      "   x̄ : 7.0871927687138285 \n",
      "   n: 2010 \n",
      "   σ: 1.5728029470456655 \n",
      "   μ0 : 7\n",
      "   p_value : 0.006477571731867804 \n",
      "   z: 2.485\n",
      "6. Test Daerah Kritis\n",
      "   Tolak H0 karena nilai uji = 2.485>1.645 (z>zα)\n",
      "   Rata-Rata pH>7\n"
     ]
    },
    {
     "data": {
      "text/plain": [
       "<AxesSubplot:>"
      ]
     },
     "execution_count": 73,
     "metadata": {},
     "output_type": "execute_result"
    },
    {
     "data": {
      "image/png": "[encoded data removed]",
      "text/plain": [
       "<Figure size 432x288 with 1 Axes>"
      ]
     },
     "metadata": {
      "needs_background": "light"
     },
     "output_type": "display_data"
    }
   ],
   "source": [
    "print(\"a. Nilai rata-rata pH di atas 7\")\n",
    "\n",
    "#1\n",
    "H0 = \"μ=7\"\n",
    "print(\"1. H0 : {}\".format(H0))\n",
    "\n",
    "#2\n",
    "H1 = \"μ>7\"\n",
    "print(\"2. H1 : {}\".format(H1))\n",
    "\n",
    "#3\n",
    "α = 5e-2\n",
    "print(\"3. α = {}\".format(α))\n",
    "\n",
    "#4\n",
    "zα = round(stats.norm.ppf(1-α),3)\n",
    "print(\"4. Uji Statistik : z=(x̄-μ0)/(σ/sqrt(n))\")\n",
    "print(\"   Daerah Kritis : z>zα : z >{}\".format(zα))\n",
    "\n",
    "#5\n",
    "X = df[\"pH\"].mean()\n",
    "u0= 7\n",
    "simpbaku = df[\"pH\"].std()\n",
    "n = len( df[\"pH\"])\n",
    "z = round(zScore1(X,u0,simpbaku,n),3)\n",
    "p_value = 1-stats.norm.cdf(z)\n",
    "print(\"5. Komputasi\")\n",
    "print(\"   x̄ : {} \\n   n: {} \\n   σ: {} \\n   μ0 : {}\".format(X,n,simpbaku,u0))\n",
    "print(\"   p_value : {} \\n   z: {}\".format(str(p_value),str(z)))\n",
    "\n",
    "#6\n",
    "print(\"6. Test Daerah Kritis\")\n",
    "if (z > zα):\n",
    "    print(\"   Tolak H0 karena nilai uji = {}>{} (z>zα)\".format(str(z),str(zα)))\n",
    "    print(\"   Rata-Rata pH>7\")\n",
    "else :\n",
    "    print(\"   Terima H0 karena nilai uji = {}<={} (z<=zα)\".format(str(z),str(zα)))\n",
    "    print(\"   Rata-Rata pH=7\")\n",
    "    \n",
    "sns.boxplot(data = df[\"pH\"])"
   ]
  },
  {
   "cell_type": "code",
   "execution_count": 63,
   "metadata": {},
   "outputs": [
    {
     "name": "stdout",
     "output_type": "stream",
     "text": [
      "b. Nilai Rata-rata Hardness tidak sama dengan 205?\n",
      "1. H0 : μ=205\n",
      "2. H1 : μ≠205\n",
      "3. α = 0.05\n",
      "4. Uji Statistik : z=(x̄-μ0)/(σ/sqrt(n))\n",
      "   Daerah Kritis : z>zα/2 atau z <-zα/2 : z>1.96 atau z<-1.96\n",
      "5. Komputasi\n",
      "   x̄ : 195.96920903783524 \n",
      "   n: 2010 \n",
      "   σ: 32.643165859429864 \n",
      "   μ0 : 205\n",
      "   p_value : 1.0 \n",
      "   z: -12.403\n",
      "6. Test Daerah Kritis\n",
      "   Tolak H0 karena nilai uji = -12.403<-1.96 (z<-zα/2)\n",
      "   Rata-rata hardness≠205\n"
     ]
    },
    {
     "data": {
      "text/plain": [
       "<AxesSubplot:>"
      ]
     },
     "execution_count": 63,
     "metadata": {},
     "output_type": "execute_result"
    },
    {
     "data": {
      "image/png": "[encoded data removed]",
      "text/plain": [
       "<Figure size 432x288 with 1 Axes>"
      ]
     },
     "metadata": {
      "needs_background": "light"
     },
     "output_type": "display_data"
    }
   ],
   "source": [
    "print(\"b. Nilai Rata-rata Hardness tidak sama dengan 205?\")\n",
    "\n",
    "#1\n",
    "H0 = \"μ=205\"\n",
    "print(\"1. H0 : {}\".format(H0))\n",
    "\n",
    "#2\n",
    "H1 = \"μ≠205\"\n",
    "print(\"2. H1 : {}\".format(H1))\n",
    "\n",
    "#3\n",
    "α = 5e-2\n",
    "print(\"3. α = {}\".format(α))\n",
    "\n",
    "#4\n",
    "zα2 = round(stats.norm.ppf(1-(α/2)),3)\n",
    "print(\"4. Uji Statistik : z=(x̄-μ0)/(σ/sqrt(n))\")\n",
    "print(\"   Daerah Kritis : z>zα/2 atau z <-zα/2 : z>{} atau z<{}\".format(zα2,-1*zα2))\n",
    "\n",
    "#5\n",
    "X = df[\"Hardness\"].mean()\n",
    "u0= 205\n",
    "simpbaku = df[\"Hardness\"].std()\n",
    "n = len( df[\"Hardness\"])\n",
    "z = round(zScore1(X,u0,simpbaku,n),3)\n",
    "p_value = 1-stats.norm.cdf(z)\n",
    "print(\"5. Komputasi\")\n",
    "print(\"   x̄ : {} \\n   n: {} \\n   σ: {} \\n   μ0 : {}\".format(X,n,simpbaku,u0))\n",
    "print(\"   p_value : {} \\n   z: {}\".format(str(p_value),str(z)))\n",
    "\n",
    "#6\n",
    "print(\"6. Test Daerah Kritis\")\n",
    "if (z > zα2 or z<-1*zα2):\n",
    "    if (z > zα2):\n",
    "        print(\"   Tolak H0 karena nilai uji = {}>{} (z>zα/2)\".format(z,zα2))\n",
    "    else:\n",
    "        print(\"   Tolak H0 karena nilai uji = {}<{} (z<-zα/2)\".format(z,-1*zα2))\n",
    "    print(\"   Rata-rata hardness≠205\")\n",
    "else :\n",
    "    print(\"   Terima H0 karena nilai uji = {}<{}<{} (-zα/2<z<zα/2)\".format(-1*zα2,z,zα2))\n",
    "    print(\"   Rata-rata hardness = 205\")\n",
    "    \n",
    "sns.boxplot(data = df[\"Hardness\"])"
   ]
  },
  {
   "cell_type": "code",
   "execution_count": 74,
   "metadata": {},
   "outputs": [
    {
     "name": "stdout",
     "output_type": "stream",
     "text": [
      "c. Nilai Rata-rata 100 baris pertama kolom Solids bukan 21900?\n",
      "1. H0 : μ=21900\n",
      "2. H1 : μ≠21900\n",
      "3. α = 0.05\n",
      "4. Uji Statistik : z=(x̄-μ0)/(σ/sqrt(n))\n",
      "   Daerah Kritis : z>zα/2 atau z <-zα/2 : z>1.96 atau z<-1.96\n",
      "5. Komputasi\n",
      "   x̄ : 22347.334446383426 \n",
      "   n: 2010 \n",
      "   σ: 8625.397911190576 \n",
      "   μ0 : 21900\n",
      "   p_value : 0.020071960200548133 \n",
      "   z: 2.325\n",
      "6. Test Daerah Kritis\n",
      "   Tolak H0 karena nilai uji = 2.325>1.96 (z>zα/2)\n",
      "   Nilai Rata-rata 100 baris pertama kolom Solids ≠ 21900\n"
     ]
    },
    {
     "data": {
      "text/plain": [
       "<AxesSubplot:>"
      ]
     },
     "execution_count": 74,
     "metadata": {},
     "output_type": "execute_result"
    },
    {
     "data": {
      "image/png": "[encoded data removed]",
      "text/plain": [
       "<Figure size 432x288 with 1 Axes>"
      ]
     },
     "metadata": {
      "needs_background": "light"
     },
     "output_type": "display_data"
    }
   ],
   "source": [
    "print(\"c. Nilai Rata-rata 100 baris pertama kolom Solids bukan 21900?\")\n",
    "\n",
    "#1\n",
    "H0 = \"μ=21900\"\n",
    "print(\"1. H0 : {}\".format(H0))\n",
    "\n",
    "#2\n",
    "H1 = \"μ≠21900\"\n",
    "print(\"2. H1 : {}\".format(H1))\n",
    "\n",
    "#3\n",
    "α = 5e-2\n",
    "print(\"3. α = {}\".format(α))\n",
    "\n",
    "#4\n",
    "zα2 = round(stats.norm.ppf(1-(α/2)),3)\n",
    "print(\"4. Uji Statistik : z=(x̄-μ0)/(σ/sqrt(n))\")\n",
    "print(\"   Daerah Kritis : z>zα/2 atau z <-zα/2 : z>{} atau z<{}\".format(zα2,-1*zα2))\n",
    "\n",
    "#5\n",
    "data = df[\"Solids\"][:100]\n",
    "X = data.mean()\n",
    "u0= 21900\n",
    "simpbaku =  df[\"Solids\"].std()\n",
    "n = len(  df[\"Solids\"])\n",
    "z = round(zScore1(X,u0,simpbaku,n),3)\n",
    "p_value =  1-abs(stats.norm.cdf(z)-stats.norm.cdf(-1*z))\n",
    "print(\"5. Komputasi\")\n",
    "print(\"   x̄ : {} \\n   n: {} \\n   σ: {} \\n   μ0 : {}\".format(X,n,simpbaku,u0))\n",
    "print(\"   p_value : {} \\n   z: {}\".format(str(p_value),str(z)))\n",
    "\n",
    "#6\n",
    "print(\"6. Test Daerah Kritis\")\n",
    "if (z > zα2 or z<-1*zzα2):\n",
    "    if (z > zα2):\n",
    "        print(\"   Tolak H0 karena nilai uji = {}>{} (z>zα/2)\".format(z,zα2))\n",
    "    else:\n",
    "        print(\"   Tolak H0 karena nilai uji = {}<{} (z<-zα/2)\".format(z,-1*zα2))\n",
    "    print(\"   Nilai Rata-rata 100 baris pertama kolom Solids ≠ 21900\")\n",
    "else :\n",
    "    print(\"   Terima H0 karena nilai uji = {}<{}<{} (-zα/2<z<zα/2)\".format(-1*zα2,z,zα2))\n",
    "    print(\"   Nilai Rata-rata 100 baris pertama kolom Solids = 21900\")\n",
    "    \n",
    "sns.boxplot(data = df[\"Solids\"])"
   ]
  },
  {
   "cell_type": "code",
   "execution_count": 76,
   "metadata": {},
   "outputs": [
    {
     "name": "stdout",
     "output_type": "stream",
     "text": [
      "d. Proporsi nilai Conductivity yang lebih dari 450, adalah tidak sama dengan 10%\n",
      "1. H0 : p = 0,10\n",
      "2. H1 : p≠0,10\n",
      "3. α = 0.05\n",
      "4. Uji Statistik : z=(p̂-p0)/sqrt(p0*q0/n), σ diketahui\n",
      "   Daerah Kritis : z>zα/2 atau z <-zα/2 : z>1.96 atau z<-1.96\n",
      "5. Komputasi\n",
      "   p̂ : 0.3706467661691542 \n",
      "   n: 2010 \n",
      "   p0: 0.1 \n",
      "   q0 : 0.9\n",
      "   p_value : 0.0 \n",
      "   z: 40.446\n",
      "6. Test Daerah Kritis\n",
      "   Tolak H0 karena nilai uji = 40.446>1.96 (z>zα/2)\n",
      "   Proporsi nilai Conductivity yang lebih dari 450 ≠ 10%\n"
     ]
    },
    {
     "data": {
      "text/plain": [
       "<AxesSubplot:>"
      ]
     },
     "execution_count": 76,
     "metadata": {},
     "output_type": "execute_result"
    },
    {
     "data": {
      "image/png": "[encoded data removed]",
      "text/plain": [
       "<Figure size 432x288 with 1 Axes>"
      ]
     },
     "metadata": {
      "needs_background": "light"
     },
     "output_type": "display_data"
    }
   ],
   "source": [
    "print(\"d. Proporsi nilai Conductivity yang lebih dari 450, adalah tidak sama dengan 10%\")\n",
    "\n",
    "#1\n",
    "H0 = \"p = 0,10\"\n",
    "print(\"1. H0 : {}\".format(H0))\n",
    "\n",
    "#2\n",
    "H1 = \"p≠0,10\"\n",
    "print(\"2. H1 : {}\".format(H1))\n",
    "\n",
    "#3\n",
    "α = 5e-2\n",
    "print(\"3. α = {}\".format(α))\n",
    "\n",
    "#4\n",
    "zα2 = round(stats.norm.ppf(1-(α/2)),3)\n",
    "print(\"4. Uji Statistik : z=(p̂-p0)/sqrt(p0*q0/n), σ diketahui\")\n",
    "print(\"   Daerah Kritis : z>zα/2 atau z <-zα/2 : z>{} atau z<{}\".format(zα2,-1*zα2))\n",
    "\n",
    "#5\n",
    "data = [item for item in df[\"Conductivity\"] if item >450]\n",
    "p = len(data)/len(df[\"Conductivity\"])\n",
    "p0 = 0.1\n",
    "q0= 1-p0\n",
    "n = len(  df[\"Conductivity\"])\n",
    "z = round(zScore2(p,p0,q0,n),3)\n",
    "p_value =  1-abs(stats.norm.cdf(z)-stats.norm.cdf(-1*z))\n",
    "print(\"5. Komputasi\")\n",
    "print(\"   p̂ : {} \\n   n: {} \\n   p0: {} \\n   q0 : {}\".format(p,n,p0,q0))\n",
    "print(\"   p_value : {} \\n   z: {}\".format(str(p_value),str(z)))\n",
    "\n",
    "#6\n",
    "print(\"6. Test Daerah Kritis\")\n",
    "if (z > zα2 or z<-1*zzα2):\n",
    "    if (z > zα2):\n",
    "        print(\"   Tolak H0 karena nilai uji = {}>{} (z>zα/2)\".format(z,zα2))\n",
    "    else:\n",
    "        print(\"   Tolak H0 karena nilai uji = {}<{} (z<-zα/2)\".format(z,-1*zα2))\n",
    "    print(\"   Proporsi nilai Conductivity yang lebih dari 450 ≠ 10%\")\n",
    "else :\n",
    "    print(\"   Terima H0 karena nilai uji = {}<{}<{} (-zα/2<z<zα/2)\".format(-1*zα2,z,zα2))\n",
    "    print(\"   Proporsi nilai Conductivity yang lebih dari 450 = 10%\")\n",
    "    \n",
    "sns.boxplot(data = df[\"Conductivity\"])"
   ]
  },
  {
   "cell_type": "code",
   "execution_count": null,
   "metadata": {},
   "outputs": [],
   "source": [
    "print(\"e.Proporsi nilai Trihalomethanes yang kurang dari 40, adalah kurang dari 5%?\")\n",
    "\n",
    "#1\n",
    "H0 = \"p = 0,05\"\n",
    "print(\"1. H0 : {}\".format(H0))\n",
    "\n",
    "#2\n",
    "H1 = \"p<0,05\"\n",
    "print(\"2. H1 : {}\".format(H1))\n",
    "\n",
    "#3\n",
    "α = 5e-2\n",
    "print(\"3. α = {}\".format(α))\n",
    "\n",
    "#4\n",
    "zα = round(stats.norm.ppf(1-α),3)\n",
    "print(\"4. Uji Statistik : z=(p̂-p0)/sqrt(p0*q0/n), σ diketahui\")\n",
    "print(\"   Daerah Kritis : z>zα/2 atau z <-zα/2 : z>{} atau z<{}\".format(zα2,-1*zα2))\n",
    "\n",
    "#5\n",
    "data = [item for item in df[\"Trihalomethanes\"] if item >450]\n",
    "p = len(data)/len(df[\"Trihalomethanes\"])\n",
    "p0 = 0.1\n",
    "q0= 1-p0\n",
    "n = len(  df[\"Trihalomethanes\"])\n",
    "z = round(zScore2(p,p0,q0,n),3)\n",
    "p_value = stats.norm.cdf(z)\n",
    "print(\"5. Komputasi\")\n",
    "print(\"   p̂ : {} \\n   n: {} \\n   p0: {} \\n   q0 : {}\".format(p,n,p0,q0))\n",
    "print(\"   p_value : {} \\n   z: {}\".format(str(p_value),str(z)))\n",
    "\n",
    "#6\n",
    "print(\"6. Test Daerah Kritis\")\n",
    "if (z < -1*zα):\n",
    "    print(\"   Tolak H0 karena nilai uji = {}<{} (z<-zα)\".format(str(z),str(-1*zα)))\n",
    "    print(\"   Proporsi nilai Trihalomethanes yang kurang dari 40, adalah kurang dari 5%\")\n",
    "else :\n",
    "    print(\"   Terima H0 karena nilai uji = {}>={} (z>=zα)\".format(str(z),str(zα)))\n",
    "    print(\"   Proporsi nilai Trihalomethanes yang kurang dari 40, adalah sama dengan 5%\")\n",
    "    \n",
    "sns.boxplot(data = df[\"Trihalomethanes\"])"
   ]
  },
  {
   "cell_type": "markdown",
   "metadata": {},
   "source": [
    "### Soal 5\n",
    "Melakukan test hipotesis 2 sampel, dengan menuliskan 6 langkah testing dan menampilkan juga boxplotnya untuk kolom/bagian yang bersesuaian.\n",
    "- a. Data kolom Sulfate dibagi 2 sama rata: bagian awal dan bagian akhir kolom. Benarkah rata-rata kedua bagian tersebut sama?\n",
    "- b. Data kolom OrganicCarbon dibagi 2 sama rata: bagian awal dan bagian akhir kolom. Benarkah rata-rata bagian awal lebih besar dari pada bagian akhir sebesar 0.15?\n",
    "- c. Rata-rata 100 baris pertama kolom Chloramines sama dengan 100 baris terakhirnya?\n",
    "- d. Proporsi nilai bagian awal Turbidity yang lebih dari 4, adalah lebih besar daripada, proporsi nilai yang sama di bagian akhir Turbidity ?\n",
    "- e. Bagian awal kolom Sulfate memiliki variansi yang sama dengan bagian akhirnya?"
   ]
  },
  {
   "cell_type": "code",
   "execution_count": null,
   "metadata": {},
   "outputs": [],
   "source": []
  },
  {
   "cell_type": "markdown",
   "metadata": {},
   "source": [
    "### Soal 6\n",
    "Test korelasi: tentukan apakah setiap kolom non-target berkorelasi dengan kolom target, dengan menggambarkan juga scatter plot nya. Gunakan correlation test."
   ]
  },
  {
   "cell_type": "code",
   "execution_count": null,
   "metadata": {},
   "outputs": [],
   "source": []
  }
 ],
 "metadata": {
  "interpreter": {
   "hash": "af506f0f4df9e070635421c29e96a5179972240d87d49e527249eca655fb6161"
  },
  "kernelspec": {
   "display_name": "Python 3 (ipykernel)",
   "language": "python",
   "name": "python3"
  },
  "language_info": {
   "codemirror_mode": {
    "name": "ipython",
    "version": 3
   },
   "file_extension": ".py",
   "mimetype": "text/x-python",
   "name": "python",
   "nbconvert_exporter": "python",
   "pygments_lexer": "ipython3",
   "version": "3.10.0"
  }
 },
 "nbformat": 4,
 "nbformat_minor": 2
}
