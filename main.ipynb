{
 "cells": [
  {
   "cell_type": "markdown",
   "metadata": {},
   "source": [
    "# Tugas Besar IF2220 Probabilitas dan Statistika"
   ]
  },
  {
   "cell_type": "markdown",
   "metadata": {},
   "source": [
    "## Penarikan Kesimpulan dan Pengujian Hipotesis\n",
    "- 13520006 - Vionie Novencia Thanggestyo\n",
    "- 13520069 - Kent Liusudarso"
   ]
  },
  {
   "cell_type": "markdown",
   "metadata": {},
   "source": [
    "### Enam Langkah Testing"
   ]
  },
  {
   "cell_type": "markdown",
   "metadata": {},
   "source": [
    "1. Tentukan Hipotesis nol ${(H_0: θ = θ_0)}$, dimana ${θ}$ bisa berupa ${μ}$, ${σ^2}$, ${p}$, atau data lain berdistribusi tertentu (normal, binomial, dsc.).\n",
    "2. Pilih hipotesis alternatif H1 salah dari dari ${θ > θ_0}$, ${θ < θ_0}$, atau ${θ ≠ θ_0}$.\n",
    "3. Tentukan tingkat signifikan ${α}$.\n",
    "4. Tentukan uji statistik yang sesuai dan tentukan daerah kritis.\n",
    "5. Hitung nilai uji statistik dari data sample. Hitung _p-value_ sesuai dengan uji statistik yang digunakan.\n",
    "6. Ambil keputusan dengan TOLAK ${H_0}$ jika nilai uji terletak di daerah kritis atau dengan tes signifikan, TOLAK ${H_0}$ jika _p-value_ lebih kecil dibanding tingkat signifikansi ${α}$ yang diinginkan.\n"
   ]
  },
  {
   "cell_type": "markdown",
   "metadata": {},
   "source": [
    "### Import Modules & Data"
   ]
  },
  {
   "cell_type": "code",
   "execution_count": 1,
   "metadata": {},
   "outputs": [
    {
     "data": {
      "text/html": [
       "<div>\n",
       "<style scoped>\n",
       "    .dataframe tbody tr th:only-of-type {\n",
       "        vertical-align: middle;\n",
       "    }\n",
       "\n",
       "    .dataframe tbody tr th {\n",
       "        vertical-align: top;\n",
       "    }\n",
       "\n",
       "    .dataframe thead th {\n",
       "        text-align: right;\n",
       "    }\n",
       "</style>\n",
       "<table border=\"1\" class=\"dataframe\">\n",
       "  <thead>\n",
       "    <tr style=\"text-align: right;\">\n",
       "      <th></th>\n",
       "      <th>id</th>\n",
       "      <th>pH</th>\n",
       "      <th>Hardness</th>\n",
       "      <th>Solids</th>\n",
       "      <th>Chloramines</th>\n",
       "      <th>Sulfate</th>\n",
       "      <th>Conductivity</th>\n",
       "      <th>OrganicCarbon</th>\n",
       "      <th>Trihalomethanes</th>\n",
       "      <th>Turbidity</th>\n",
       "      <th>Potability</th>\n",
       "    </tr>\n",
       "  </thead>\n",
       "  <tbody>\n",
       "    <tr>\n",
       "      <th>0</th>\n",
       "      <td>1</td>\n",
       "      <td>8.316766</td>\n",
       "      <td>214.373394</td>\n",
       "      <td>22018.417441</td>\n",
       "      <td>8.059332</td>\n",
       "      <td>356.886136</td>\n",
       "      <td>363.266516</td>\n",
       "      <td>18.436524</td>\n",
       "      <td>100.341674</td>\n",
       "      <td>4.628771</td>\n",
       "      <td>0</td>\n",
       "    </tr>\n",
       "    <tr>\n",
       "      <th>1</th>\n",
       "      <td>2</td>\n",
       "      <td>9.092223</td>\n",
       "      <td>181.101509</td>\n",
       "      <td>17978.986339</td>\n",
       "      <td>6.546600</td>\n",
       "      <td>310.135738</td>\n",
       "      <td>398.410813</td>\n",
       "      <td>11.558279</td>\n",
       "      <td>31.997993</td>\n",
       "      <td>4.075075</td>\n",
       "      <td>0</td>\n",
       "    </tr>\n",
       "    <tr>\n",
       "      <th>2</th>\n",
       "      <td>3</td>\n",
       "      <td>5.584087</td>\n",
       "      <td>188.313324</td>\n",
       "      <td>28748.687739</td>\n",
       "      <td>7.544869</td>\n",
       "      <td>326.678363</td>\n",
       "      <td>280.467916</td>\n",
       "      <td>8.399735</td>\n",
       "      <td>54.917862</td>\n",
       "      <td>2.559708</td>\n",
       "      <td>0</td>\n",
       "    </tr>\n",
       "    <tr>\n",
       "      <th>3</th>\n",
       "      <td>4</td>\n",
       "      <td>10.223862</td>\n",
       "      <td>248.071735</td>\n",
       "      <td>28749.716544</td>\n",
       "      <td>7.513408</td>\n",
       "      <td>393.663396</td>\n",
       "      <td>283.651634</td>\n",
       "      <td>13.789695</td>\n",
       "      <td>84.603556</td>\n",
       "      <td>2.672989</td>\n",
       "      <td>0</td>\n",
       "    </tr>\n",
       "    <tr>\n",
       "      <th>4</th>\n",
       "      <td>5</td>\n",
       "      <td>8.635849</td>\n",
       "      <td>203.361523</td>\n",
       "      <td>13672.091764</td>\n",
       "      <td>4.563009</td>\n",
       "      <td>303.309771</td>\n",
       "      <td>474.607645</td>\n",
       "      <td>12.363817</td>\n",
       "      <td>62.798309</td>\n",
       "      <td>4.401425</td>\n",
       "      <td>0</td>\n",
       "    </tr>\n",
       "    <tr>\n",
       "      <th>...</th>\n",
       "      <td>...</td>\n",
       "      <td>...</td>\n",
       "      <td>...</td>\n",
       "      <td>...</td>\n",
       "      <td>...</td>\n",
       "      <td>...</td>\n",
       "      <td>...</td>\n",
       "      <td>...</td>\n",
       "      <td>...</td>\n",
       "      <td>...</td>\n",
       "      <td>...</td>\n",
       "    </tr>\n",
       "    <tr>\n",
       "      <th>2005</th>\n",
       "      <td>2006</td>\n",
       "      <td>8.197353</td>\n",
       "      <td>203.105091</td>\n",
       "      <td>27701.794055</td>\n",
       "      <td>6.472914</td>\n",
       "      <td>328.886838</td>\n",
       "      <td>444.612724</td>\n",
       "      <td>14.250875</td>\n",
       "      <td>62.906205</td>\n",
       "      <td>3.361833</td>\n",
       "      <td>1</td>\n",
       "    </tr>\n",
       "    <tr>\n",
       "      <th>2006</th>\n",
       "      <td>2007</td>\n",
       "      <td>8.989900</td>\n",
       "      <td>215.047358</td>\n",
       "      <td>15921.412018</td>\n",
       "      <td>6.297312</td>\n",
       "      <td>312.931022</td>\n",
       "      <td>390.410231</td>\n",
       "      <td>9.899115</td>\n",
       "      <td>55.069304</td>\n",
       "      <td>4.613843</td>\n",
       "      <td>1</td>\n",
       "    </tr>\n",
       "    <tr>\n",
       "      <th>2007</th>\n",
       "      <td>2008</td>\n",
       "      <td>6.702547</td>\n",
       "      <td>207.321086</td>\n",
       "      <td>17246.920347</td>\n",
       "      <td>7.708117</td>\n",
       "      <td>304.510230</td>\n",
       "      <td>329.266002</td>\n",
       "      <td>16.217303</td>\n",
       "      <td>28.878601</td>\n",
       "      <td>3.442983</td>\n",
       "      <td>1</td>\n",
       "    </tr>\n",
       "    <tr>\n",
       "      <th>2008</th>\n",
       "      <td>2009</td>\n",
       "      <td>11.491011</td>\n",
       "      <td>94.812545</td>\n",
       "      <td>37188.826022</td>\n",
       "      <td>9.263166</td>\n",
       "      <td>258.930600</td>\n",
       "      <td>439.893618</td>\n",
       "      <td>16.172755</td>\n",
       "      <td>41.558501</td>\n",
       "      <td>4.369264</td>\n",
       "      <td>1</td>\n",
       "    </tr>\n",
       "    <tr>\n",
       "      <th>2009</th>\n",
       "      <td>2010</td>\n",
       "      <td>6.069616</td>\n",
       "      <td>186.659040</td>\n",
       "      <td>26138.780191</td>\n",
       "      <td>7.747547</td>\n",
       "      <td>345.700257</td>\n",
       "      <td>415.886955</td>\n",
       "      <td>12.067620</td>\n",
       "      <td>60.419921</td>\n",
       "      <td>3.669712</td>\n",
       "      <td>1</td>\n",
       "    </tr>\n",
       "  </tbody>\n",
       "</table>\n",
       "<p>2010 rows × 11 columns</p>\n",
       "</div>"
      ],
      "text/plain": [
       "        id         pH    Hardness        Solids  Chloramines     Sulfate  \\\n",
       "0        1   8.316766  214.373394  22018.417441     8.059332  356.886136   \n",
       "1        2   9.092223  181.101509  17978.986339     6.546600  310.135738   \n",
       "2        3   5.584087  188.313324  28748.687739     7.544869  326.678363   \n",
       "3        4  10.223862  248.071735  28749.716544     7.513408  393.663396   \n",
       "4        5   8.635849  203.361523  13672.091764     4.563009  303.309771   \n",
       "...    ...        ...         ...           ...          ...         ...   \n",
       "2005  2006   8.197353  203.105091  27701.794055     6.472914  328.886838   \n",
       "2006  2007   8.989900  215.047358  15921.412018     6.297312  312.931022   \n",
       "2007  2008   6.702547  207.321086  17246.920347     7.708117  304.510230   \n",
       "2008  2009  11.491011   94.812545  37188.826022     9.263166  258.930600   \n",
       "2009  2010   6.069616  186.659040  26138.780191     7.747547  345.700257   \n",
       "\n",
       "      Conductivity  OrganicCarbon  Trihalomethanes  Turbidity  Potability  \n",
       "0       363.266516      18.436524       100.341674   4.628771           0  \n",
       "1       398.410813      11.558279        31.997993   4.075075           0  \n",
       "2       280.467916       8.399735        54.917862   2.559708           0  \n",
       "3       283.651634      13.789695        84.603556   2.672989           0  \n",
       "4       474.607645      12.363817        62.798309   4.401425           0  \n",
       "...            ...            ...              ...        ...         ...  \n",
       "2005    444.612724      14.250875        62.906205   3.361833           1  \n",
       "2006    390.410231       9.899115        55.069304   4.613843           1  \n",
       "2007    329.266002      16.217303        28.878601   3.442983           1  \n",
       "2008    439.893618      16.172755        41.558501   4.369264           1  \n",
       "2009    415.886955      12.067620        60.419921   3.669712           1  \n",
       "\n",
       "[2010 rows x 11 columns]"
      ]
     },
     "execution_count": 1,
     "metadata": {},
     "output_type": "execute_result"
    }
   ],
   "source": [
    "import pandas as pd\n",
    "import matplotlib.pyplot as plt\n",
    "import scipy.stats as stats\n",
    "import numpy as np\n",
    "import seaborn as sns\n",
    "\n",
    "coloumn_names = ['id', 'pH', 'Hardness', 'Solids', 'Chloramines', 'Sulfate', 'Conductivity', 'OrganicCarbon', 'Trihalomethanes', 'Turbidity', 'Potability']\n",
    "df = pd.read_csv('water_potability.csv', names=coloumn_names)\n",
    "df"
   ]
  },
  {
   "cell_type": "markdown",
   "metadata": {},
   "source": [
    "### Soal 1\n",
    "Menulis deskripsi statistika (*Descriptive Statistics*) dari semua kolom pada data yang bersifat numerik, terdiri dari mean, median, modus, standar deviasi, variansi, range, nilai minimum, maksimum, kuartil, IQR, skewness dan kurtosis. Boleh juga ditambahkan deskripsi lain."
   ]
  },
  {
   "cell_type": "code",
   "execution_count": 2,
   "metadata": {},
   "outputs": [
    {
     "data": {
      "text/html": [
       "<div>\n",
       "<style scoped>\n",
       "    .dataframe tbody tr th:only-of-type {\n",
       "        vertical-align: middle;\n",
       "    }\n",
       "\n",
       "    .dataframe tbody tr th {\n",
       "        vertical-align: top;\n",
       "    }\n",
       "\n",
       "    .dataframe thead th {\n",
       "        text-align: right;\n",
       "    }\n",
       "</style>\n",
       "<table border=\"1\" class=\"dataframe\">\n",
       "  <thead>\n",
       "    <tr style=\"text-align: right;\">\n",
       "      <th></th>\n",
       "      <th>id</th>\n",
       "      <th>pH</th>\n",
       "      <th>Hardness</th>\n",
       "      <th>Solids</th>\n",
       "      <th>Chloramines</th>\n",
       "      <th>Sulfate</th>\n",
       "      <th>Conductivity</th>\n",
       "      <th>OrganicCarbon</th>\n",
       "      <th>Trihalomethanes</th>\n",
       "      <th>Turbidity</th>\n",
       "      <th>Potability</th>\n",
       "    </tr>\n",
       "  </thead>\n",
       "  <tbody>\n",
       "    <tr>\n",
       "      <th>count</th>\n",
       "      <td>2010.0</td>\n",
       "      <td>2010.0</td>\n",
       "      <td>2010.0</td>\n",
       "      <td>2010.0</td>\n",
       "      <td>2010.0</td>\n",
       "      <td>2010.0</td>\n",
       "      <td>2010.0</td>\n",
       "      <td>2010.0</td>\n",
       "      <td>2010.0</td>\n",
       "      <td>2010.0</td>\n",
       "      <td>2010.000000</td>\n",
       "    </tr>\n",
       "    <tr>\n",
       "      <th>mean</th>\n",
       "      <td>1005.5</td>\n",
       "      <td>7.087193</td>\n",
       "      <td>195.969209</td>\n",
       "      <td>21904.673439</td>\n",
       "      <td>7.134322</td>\n",
       "      <td>333.211376</td>\n",
       "      <td>426.476708</td>\n",
       "      <td>14.35794</td>\n",
       "      <td>66.400717</td>\n",
       "      <td>3.969497</td>\n",
       "      <td>0.402985</td>\n",
       "    </tr>\n",
       "    <tr>\n",
       "      <th>std</th>\n",
       "      <td>580.38134</td>\n",
       "      <td>1.572803</td>\n",
       "      <td>32.643166</td>\n",
       "      <td>8625.397911</td>\n",
       "      <td>1.585214</td>\n",
       "      <td>41.211111</td>\n",
       "      <td>80.701872</td>\n",
       "      <td>3.32577</td>\n",
       "      <td>16.081109</td>\n",
       "      <td>0.780471</td>\n",
       "      <td>0.490620</td>\n",
       "    </tr>\n",
       "    <tr>\n",
       "      <th>min</th>\n",
       "      <td>1.0</td>\n",
       "      <td>0.227499</td>\n",
       "      <td>73.492234</td>\n",
       "      <td>320.942611</td>\n",
       "      <td>1.390871</td>\n",
       "      <td>129.0</td>\n",
       "      <td>201.619737</td>\n",
       "      <td>2.2</td>\n",
       "      <td>8.577013</td>\n",
       "      <td>1.45</td>\n",
       "      <td>0.000000</td>\n",
       "    </tr>\n",
       "    <tr>\n",
       "      <th>25%</th>\n",
       "      <td>503.25</td>\n",
       "      <td>6.090785</td>\n",
       "      <td>176.740657</td>\n",
       "      <td>15614.412962</td>\n",
       "      <td>6.138326</td>\n",
       "      <td>307.626986</td>\n",
       "      <td>366.619219</td>\n",
       "      <td>12.12253</td>\n",
       "      <td>55.949993</td>\n",
       "      <td>3.442882</td>\n",
       "      <td>0.000000</td>\n",
       "    </tr>\n",
       "    <tr>\n",
       "      <th>50%</th>\n",
       "      <td>1005.5</td>\n",
       "      <td>7.02949</td>\n",
       "      <td>197.203525</td>\n",
       "      <td>20926.882155</td>\n",
       "      <td>7.142014</td>\n",
       "      <td>332.214113</td>\n",
       "      <td>423.438372</td>\n",
       "      <td>14.323286</td>\n",
       "      <td>66.482041</td>\n",
       "      <td>3.967374</td>\n",
       "      <td>0.000000</td>\n",
       "    </tr>\n",
       "    <tr>\n",
       "      <th>75%</th>\n",
       "      <td>1507.75</td>\n",
       "      <td>8.053006</td>\n",
       "      <td>216.447589</td>\n",
       "      <td>27170.534649</td>\n",
       "      <td>8.109933</td>\n",
       "      <td>359.268147</td>\n",
       "      <td>482.209772</td>\n",
       "      <td>16.683562</td>\n",
       "      <td>77.294613</td>\n",
       "      <td>4.514663</td>\n",
       "      <td>1.000000</td>\n",
       "    </tr>\n",
       "    <tr>\n",
       "      <th>max</th>\n",
       "      <td>2010.0</td>\n",
       "      <td>14.0</td>\n",
       "      <td>317.338124</td>\n",
       "      <td>56488.672413</td>\n",
       "      <td>13.127</td>\n",
       "      <td>481.030642</td>\n",
       "      <td>753.34262</td>\n",
       "      <td>27.006707</td>\n",
       "      <td>124.0</td>\n",
       "      <td>6.494749</td>\n",
       "      <td>1.000000</td>\n",
       "    </tr>\n",
       "    <tr>\n",
       "      <th>variansi</th>\n",
       "      <td>336842.5</td>\n",
       "      <td>2.473709</td>\n",
       "      <td>1065.576277</td>\n",
       "      <td>74397489.126371</td>\n",
       "      <td>2.512904</td>\n",
       "      <td>1698.355672</td>\n",
       "      <td>6512.792113</td>\n",
       "      <td>11.060746</td>\n",
       "      <td>258.602066</td>\n",
       "      <td>0.609135</td>\n",
       "      <td>0.240708</td>\n",
       "    </tr>\n",
       "    <tr>\n",
       "      <th>range</th>\n",
       "      <td>2009.0</td>\n",
       "      <td>13.772501</td>\n",
       "      <td>243.84589</td>\n",
       "      <td>56167.729801</td>\n",
       "      <td>11.736129</td>\n",
       "      <td>352.030642</td>\n",
       "      <td>551.722883</td>\n",
       "      <td>24.806707</td>\n",
       "      <td>115.422987</td>\n",
       "      <td>5.044749</td>\n",
       "      <td>1.000000</td>\n",
       "    </tr>\n",
       "    <tr>\n",
       "      <th>IQR</th>\n",
       "      <td>1004.5</td>\n",
       "      <td>1.962221</td>\n",
       "      <td>39.706932</td>\n",
       "      <td>11556.121687</td>\n",
       "      <td>1.971607</td>\n",
       "      <td>51.641161</td>\n",
       "      <td>115.590553</td>\n",
       "      <td>4.561031</td>\n",
       "      <td>21.34462</td>\n",
       "      <td>1.071781</td>\n",
       "      <td>1.000000</td>\n",
       "    </tr>\n",
       "    <tr>\n",
       "      <th>skewness</th>\n",
       "      <td>0.0</td>\n",
       "      <td>0.048535</td>\n",
       "      <td>-0.085321</td>\n",
       "      <td>0.591011</td>\n",
       "      <td>0.013003</td>\n",
       "      <td>-0.045728</td>\n",
       "      <td>0.268012</td>\n",
       "      <td>-0.02022</td>\n",
       "      <td>-0.051383</td>\n",
       "      <td>-0.032266</td>\n",
       "      <td>0.395873</td>\n",
       "    </tr>\n",
       "    <tr>\n",
       "      <th>kurtosis</th>\n",
       "      <td>-1.2</td>\n",
       "      <td>0.626904</td>\n",
       "      <td>0.52548</td>\n",
       "      <td>0.33732</td>\n",
       "      <td>0.549782</td>\n",
       "      <td>0.786854</td>\n",
       "      <td>-0.237206</td>\n",
       "      <td>0.031018</td>\n",
       "      <td>0.223017</td>\n",
       "      <td>-0.049831</td>\n",
       "      <td>-1.845122</td>\n",
       "    </tr>\n",
       "    <tr>\n",
       "      <th>modus</th>\n",
       "      <td>None</td>\n",
       "      <td>None</td>\n",
       "      <td>None</td>\n",
       "      <td>None</td>\n",
       "      <td>None</td>\n",
       "      <td>None</td>\n",
       "      <td>None</td>\n",
       "      <td>None</td>\n",
       "      <td>None</td>\n",
       "      <td>None</td>\n",
       "      <td>0.000000</td>\n",
       "    </tr>\n",
       "  </tbody>\n",
       "</table>\n",
       "</div>"
      ],
      "text/plain": [
       "                 id         pH     Hardness           Solids Chloramines  \\\n",
       "count        2010.0     2010.0       2010.0           2010.0      2010.0   \n",
       "mean         1005.5   7.087193   195.969209     21904.673439    7.134322   \n",
       "std       580.38134   1.572803    32.643166      8625.397911    1.585214   \n",
       "min             1.0   0.227499    73.492234       320.942611    1.390871   \n",
       "25%          503.25   6.090785   176.740657     15614.412962    6.138326   \n",
       "50%          1005.5    7.02949   197.203525     20926.882155    7.142014   \n",
       "75%         1507.75   8.053006   216.447589     27170.534649    8.109933   \n",
       "max          2010.0       14.0   317.338124     56488.672413      13.127   \n",
       "variansi   336842.5   2.473709  1065.576277  74397489.126371    2.512904   \n",
       "range        2009.0  13.772501    243.84589     56167.729801   11.736129   \n",
       "IQR          1004.5   1.962221    39.706932     11556.121687    1.971607   \n",
       "skewness        0.0   0.048535    -0.085321         0.591011    0.013003   \n",
       "kurtosis       -1.2   0.626904      0.52548          0.33732    0.549782   \n",
       "modus          None       None         None             None        None   \n",
       "\n",
       "              Sulfate Conductivity OrganicCarbon Trihalomethanes Turbidity  \\\n",
       "count          2010.0       2010.0        2010.0          2010.0    2010.0   \n",
       "mean       333.211376   426.476708      14.35794       66.400717  3.969497   \n",
       "std         41.211111    80.701872       3.32577       16.081109  0.780471   \n",
       "min             129.0   201.619737           2.2        8.577013      1.45   \n",
       "25%        307.626986   366.619219      12.12253       55.949993  3.442882   \n",
       "50%        332.214113   423.438372     14.323286       66.482041  3.967374   \n",
       "75%        359.268147   482.209772     16.683562       77.294613  4.514663   \n",
       "max        481.030642    753.34262     27.006707           124.0  6.494749   \n",
       "variansi  1698.355672  6512.792113     11.060746      258.602066  0.609135   \n",
       "range      352.030642   551.722883     24.806707      115.422987  5.044749   \n",
       "IQR         51.641161   115.590553      4.561031        21.34462  1.071781   \n",
       "skewness    -0.045728     0.268012      -0.02022       -0.051383 -0.032266   \n",
       "kurtosis     0.786854    -0.237206      0.031018        0.223017 -0.049831   \n",
       "modus            None         None          None            None      None   \n",
       "\n",
       "           Potability  \n",
       "count     2010.000000  \n",
       "mean         0.402985  \n",
       "std          0.490620  \n",
       "min          0.000000  \n",
       "25%          0.000000  \n",
       "50%          0.000000  \n",
       "75%          1.000000  \n",
       "max          1.000000  \n",
       "variansi     0.240708  \n",
       "range        1.000000  \n",
       "IQR          1.000000  \n",
       "skewness     0.395873  \n",
       "kurtosis    -1.845122  \n",
       "modus        0.000000  "
      ]
     },
     "execution_count": 2,
     "metadata": {},
     "output_type": "execute_result"
    }
   ],
   "source": [
    "df1 = df.describe(include=[np.number])\n",
    "df1.loc['variansi'] = df.var()\n",
    "df1.loc['range'] = df.max() - df.min()\n",
    "df1.loc['IQR'] = df.quantile(0.75) - df.quantile(0.25)\n",
    "df1.loc['skewness'] = df.skew()\n",
    "df1.loc['kurtosis'] = df.kurt()\n",
    "modus = []\n",
    "for coloumn in df1:\n",
    "    if (df[coloumn].mode().count() == len(df)):\n",
    "        modus.append('None')\n",
    "    else:\n",
    "        modus.append(df[coloumn].mode()[0])\n",
    "df1.loc['modus'] = modus\n",
    "df1"
   ]
  },
  {
   "cell_type": "markdown",
   "metadata": {},
   "source": [
    "### Soal 2\n",
    "Membuat Visualisasi plot distribusi, dalam bentuk histogram dan boxplot untuk setiap kolom numerik. Berikan uraian penjelasan kondisi setiap kolom berdasarkan kedua plot tersebut."
   ]
  },
  {
   "cell_type": "markdown",
   "metadata": {},
   "source": [
    "#### pH\n",
    "histogram pH di bawah ini menunjukkan data bersifat skew normal dan lepto kurtik. Data juga memiliki pencilan atas dan pencilan bawah seperti yang ditunjukkan pada boxplot"
   ]
  },
  {
   "cell_type": "code",
   "execution_count": 3,
   "metadata": {},
   "outputs": [
    {
     "data": {
      "text/plain": [
       "<AxesSubplot:xlabel='pH', ylabel='Count'>"
      ]
     },
     "execution_count": 3,
     "metadata": {},
     "output_type": "execute_result"
    },
    {
     "data": {
      "image/png": "[encoded data removed]",
      "text/plain": [
       "<Figure size 432x288 with 1 Axes>"
      ]
     },
     "metadata": {
      "needs_background": "light"
     },
     "output_type": "display_data"
    }
   ],
   "source": [
    "sns.histplot(df[\"pH\"], kde=True)"
   ]
  },
  {
   "cell_type": "code",
   "execution_count": 4,
   "metadata": {},
   "outputs": [
    {
     "data": {
      "text/plain": [
       "<AxesSubplot:>"
      ]
     },
     "execution_count": 4,
     "metadata": {},
     "output_type": "execute_result"
    },
    {
     "data": {
      "image/png": "[encoded data removed]",
      "text/plain": [
       "<Figure size 432x288 with 1 Axes>"
      ]
     },
     "metadata": {
      "needs_background": "light"
     },
     "output_type": "display_data"
    }
   ],
   "source": [
    "df.boxplot(\"pH\")"
   ]
  },
  {
   "cell_type": "markdown",
   "metadata": {},
   "source": [
    "#### Hardness\n",
    "histogram Hardness di bawah ini menunjukkan data bersifat skew normal dan lepto kurtik. Data juga memiliki pencilan atas dan pencilan bawah seperti yang ditunjukkan pada boxplot"
   ]
  },
  {
   "cell_type": "code",
   "execution_count": 5,
   "metadata": {},
   "outputs": [
    {
     "data": {
      "text/plain": [
       "<AxesSubplot:xlabel='Hardness', ylabel='Count'>"
      ]
     },
     "execution_count": 5,
     "metadata": {},
     "output_type": "execute_result"
    },
    {
     "data": {
      "image/png": "[encoded data removed]",
      "text/plain": [
       "<Figure size 432x288 with 1 Axes>"
      ]
     },
     "metadata": {
      "needs_background": "light"
     },
     "output_type": "display_data"
    }
   ],
   "source": [
    "sns.histplot(df[\"Hardness\"], kde=True)"
   ]
  },
  {
   "cell_type": "code",
   "execution_count": 6,
   "metadata": {},
   "outputs": [
    {
     "data": {
      "text/plain": [
       "<AxesSubplot:>"
      ]
     },
     "execution_count": 6,
     "metadata": {},
     "output_type": "execute_result"
    },
    {
     "data": {
      "image/png": "[encoded data removed]",
      "text/plain": [
       "<Figure size 432x288 with 1 Axes>"
      ]
     },
     "metadata": {
      "needs_background": "light"
     },
     "output_type": "display_data"
    }
   ],
   "source": [
    "df.boxplot(\"Hardness\")"
   ]
  },
  {
   "cell_type": "markdown",
   "metadata": {},
   "source": [
    "#### Solids\n",
    "histogram Solids di bawah ini menunjukkan data bersifat skew positif dan meso kurtik. Data juga memiliki pencilan atas seperti yang ditunjukkan pada boxplot"
   ]
  },
  {
   "cell_type": "code",
   "execution_count": 7,
   "metadata": {},
   "outputs": [
    {
     "data": {
      "text/plain": [
       "<AxesSubplot:xlabel='Solids', ylabel='Count'>"
      ]
     },
     "execution_count": 7,
     "metadata": {},
     "output_type": "execute_result"
    },
    {
     "data": {
      "image/png": "[encoded data removed]",
      "text/plain": [
       "<Figure size 432x288 with 1 Axes>"
      ]
     },
     "metadata": {
      "needs_background": "light"
     },
     "output_type": "display_data"
    }
   ],
   "source": [
    "sns.histplot(df[\"Solids\"], kde=True)"
   ]
  },
  {
   "cell_type": "code",
   "execution_count": 8,
   "metadata": {},
   "outputs": [
    {
     "data": {
      "text/plain": [
       "<AxesSubplot:>"
      ]
     },
     "execution_count": 8,
     "metadata": {},
     "output_type": "execute_result"
    },
    {
     "data": {
      "image/png": "[encoded data removed]",
      "text/plain": [
       "<Figure size 432x288 with 1 Axes>"
      ]
     },
     "metadata": {
      "needs_background": "light"
     },
     "output_type": "display_data"
    }
   ],
   "source": [
    "df.boxplot(\"Solids\")"
   ]
  },
  {
   "cell_type": "markdown",
   "metadata": {},
   "source": [
    "#### Chloramines\n",
    "histogram Chloramines di bawah ini menunjukkan data bersifat skew normal dan lepto kurtik. Data juga memiliki pencilan atas dan pencialn bawah seperti yang ditunjukkan pada boxplot"
   ]
  },
  {
   "cell_type": "code",
   "execution_count": 9,
   "metadata": {},
   "outputs": [
    {
     "data": {
      "text/plain": [
       "<AxesSubplot:xlabel='Chloramines', ylabel='Count'>"
      ]
     },
     "execution_count": 9,
     "metadata": {},
     "output_type": "execute_result"
    },
    {
     "data": {
      "image/png": "[encoded data removed]",
      "text/plain": [
       "<Figure size 432x288 with 1 Axes>"
      ]
     },
     "metadata": {
      "needs_background": "light"
     },
     "output_type": "display_data"
    }
   ],
   "source": [
    "sns.histplot(df[\"Chloramines\"], kde=True)"
   ]
  },
  {
   "cell_type": "code",
   "execution_count": 10,
   "metadata": {},
   "outputs": [
    {
     "data": {
      "text/plain": [
       "<AxesSubplot:>"
      ]
     },
     "execution_count": 10,
     "metadata": {},
     "output_type": "execute_result"
    },
    {
     "data": {
      "image/png": "[encoded data removed]",
      "text/plain": [
       "<Figure size 432x288 with 1 Axes>"
      ]
     },
     "metadata": {
      "needs_background": "light"
     },
     "output_type": "display_data"
    }
   ],
   "source": [
    "df.boxplot(\"Chloramines\")"
   ]
  },
  {
   "cell_type": "markdown",
   "metadata": {},
   "source": [
    "#### Sulfate\n",
    "histogram Sulfate di bawah ini menunjukkan data bersifat skew noraml dan lepto kurtik. Data juga memiliki pencilan atas dan pencilan bawah seperti yang ditunjukkan pada boxplot"
   ]
  },
  {
   "cell_type": "code",
   "execution_count": 11,
   "metadata": {},
   "outputs": [
    {
     "data": {
      "text/plain": [
       "<AxesSubplot:xlabel='Sulfate', ylabel='Count'>"
      ]
     },
     "execution_count": 11,
     "metadata": {},
     "output_type": "execute_result"
    },
    {
     "data": {
      "image/png": "[encoded data removed]",
      "text/plain": [
       "<Figure size 432x288 with 1 Axes>"
      ]
     },
     "metadata": {
      "needs_background": "light"
     },
     "output_type": "display_data"
    }
   ],
   "source": [
    "sns.histplot(df[\"Sulfate\"], kde=True)"
   ]
  },
  {
   "cell_type": "code",
   "execution_count": 12,
   "metadata": {},
   "outputs": [
    {
     "data": {
      "text/plain": [
       "<AxesSubplot:>"
      ]
     },
     "execution_count": 12,
     "metadata": {},
     "output_type": "execute_result"
    },
    {
     "data": {
      "image/png": "[encoded data removed]",
      "text/plain": [
       "<Figure size 432x288 with 1 Axes>"
      ]
     },
     "metadata": {
      "needs_background": "light"
     },
     "output_type": "display_data"
    }
   ],
   "source": [
    "df.boxplot(\"Sulfate\")"
   ]
  },
  {
   "cell_type": "markdown",
   "metadata": {},
   "source": [
    "#### Conductivity\n",
    "histogram Conductivity di bawah ini menunjukkan data bersifat skew positif dan meso kurtik. Data juga memiliki pencilan atas  seperti yang ditunjukkan pada boxplot"
   ]
  },
  {
   "cell_type": "code",
   "execution_count": 13,
   "metadata": {},
   "outputs": [
    {
     "data": {
      "text/plain": [
       "<AxesSubplot:xlabel='Conductivity', ylabel='Count'>"
      ]
     },
     "execution_count": 13,
     "metadata": {},
     "output_type": "execute_result"
    },
    {
     "data": {
      "image/png": "[encoded data removed]",
      "text/plain": [
       "<Figure size 432x288 with 1 Axes>"
      ]
     },
     "metadata": {
      "needs_background": "light"
     },
     "output_type": "display_data"
    }
   ],
   "source": [
    "sns.histplot(df[\"Conductivity\"], kde=True)"
   ]
  },
  {
   "cell_type": "code",
   "execution_count": 14,
   "metadata": {},
   "outputs": [
    {
     "data": {
      "text/plain": [
       "<AxesSubplot:>"
      ]
     },
     "execution_count": 14,
     "metadata": {},
     "output_type": "execute_result"
    },
    {
     "data": {
      "image/png": "[encoded data removed]",
      "text/plain": [
       "<Figure size 432x288 with 1 Axes>"
      ]
     },
     "metadata": {
      "needs_background": "light"
     },
     "output_type": "display_data"
    }
   ],
   "source": [
    "df.boxplot(\"Conductivity\")"
   ]
  },
  {
   "cell_type": "markdown",
   "metadata": {},
   "source": [
    "#### OrganicCarbon\n",
    "histogram OrganicCarbon di bawah ini menunjukkan data bersifat skew positif dan plati kurtik. Data juga memiliki pencilan atas  seperti yang ditunjukkan pada boxplot"
   ]
  },
  {
   "cell_type": "code",
   "execution_count": 15,
   "metadata": {},
   "outputs": [
    {
     "data": {
      "text/plain": [
       "<AxesSubplot:xlabel='OrganicCarbon', ylabel='Count'>"
      ]
     },
     "execution_count": 15,
     "metadata": {},
     "output_type": "execute_result"
    },
    {
     "data": {
      "image/png": "[encoded data removed]",
      "text/plain": [
       "<Figure size 432x288 with 1 Axes>"
      ]
     },
     "metadata": {
      "needs_background": "light"
     },
     "output_type": "display_data"
    }
   ],
   "source": [
    "sns.histplot(df[\"OrganicCarbon\"], kde=True)"
   ]
  },
  {
   "cell_type": "code",
   "execution_count": 16,
   "metadata": {},
   "outputs": [
    {
     "data": {
      "text/plain": [
       "<AxesSubplot:>"
      ]
     },
     "execution_count": 16,
     "metadata": {},
     "output_type": "execute_result"
    },
    {
     "data": {
      "image/png": "[encoded data removed]",
      "text/plain": [
       "<Figure size 432x288 with 1 Axes>"
      ]
     },
     "metadata": {
      "needs_background": "light"
     },
     "output_type": "display_data"
    }
   ],
   "source": [
    "df.boxplot(\"OrganicCarbon\")"
   ]
  },
  {
   "cell_type": "markdown",
   "metadata": {},
   "source": [
    "#### Trihalomethanes\n",
    "histogram Trihalomethanes di bawah ini menunjukkan data bersifat skew negatif dan meso kurtik. Data juga memiliki pencilan atas  seperti yang ditunjukkan pada boxplot"
   ]
  },
  {
   "cell_type": "code",
   "execution_count": 17,
   "metadata": {},
   "outputs": [
    {
     "data": {
      "text/plain": [
       "<AxesSubplot:xlabel='Trihalomethanes', ylabel='Count'>"
      ]
     },
     "execution_count": 17,
     "metadata": {},
     "output_type": "execute_result"
    },
    {
     "data": {
      "image/png": "[encoded data removed]",
      "text/plain": [
       "<Figure size 432x288 with 1 Axes>"
      ]
     },
     "metadata": {
      "needs_background": "light"
     },
     "output_type": "display_data"
    }
   ],
   "source": [
    "sns.histplot(df[\"Trihalomethanes\"], kde=True)"
   ]
  },
  {
   "cell_type": "code",
   "execution_count": 18,
   "metadata": {},
   "outputs": [
    {
     "data": {
      "text/plain": [
       "<AxesSubplot:>"
      ]
     },
     "execution_count": 18,
     "metadata": {},
     "output_type": "execute_result"
    },
    {
     "data": {
      "image/png": "[encoded data removed]",
      "text/plain": [
       "<Figure size 432x288 with 1 Axes>"
      ]
     },
     "metadata": {
      "needs_background": "light"
     },
     "output_type": "display_data"
    }
   ],
   "source": [
    "df.boxplot(\"Trihalomethanes\")"
   ]
  },
  {
   "cell_type": "markdown",
   "metadata": {},
   "source": [
    "#### Turbidity\n",
    "histogram Turbidity di bawah ini menunjukkan data bersifat skew normal dan meso kurtik. Data juga memiliki pencilan atas  seperti yang ditunjukkan pada boxplot"
   ]
  },
  {
   "cell_type": "code",
   "execution_count": 19,
   "metadata": {},
   "outputs": [
    {
     "data": {
      "text/plain": [
       "<AxesSubplot:xlabel='Turbidity', ylabel='Count'>"
      ]
     },
     "execution_count": 19,
     "metadata": {},
     "output_type": "execute_result"
    },
    {
     "data": {
      "image/png": "[encoded data removed]",
      "text/plain": [
       "<Figure size 432x288 with 1 Axes>"
      ]
     },
     "metadata": {
      "needs_background": "light"
     },
     "output_type": "display_data"
    }
   ],
   "source": [
    "sns.histplot(df[\"Turbidity\"], kde=True)"
   ]
  },
  {
   "cell_type": "code",
   "execution_count": 20,
   "metadata": {},
   "outputs": [
    {
     "data": {
      "text/plain": [
       "<AxesSubplot:>"
      ]
     },
     "execution_count": 20,
     "metadata": {},
     "output_type": "execute_result"
    },
    {
     "data": {
      "image/png": "[encoded data removed]",
      "text/plain": [
       "<Figure size 432x288 with 1 Axes>"
      ]
     },
     "metadata": {
      "needs_background": "light"
     },
     "output_type": "display_data"
    }
   ],
   "source": [
    "df.boxplot(\"Turbidity\")"
   ]
  },
  {
   "cell_type": "markdown",
   "metadata": {},
   "source": [
    "### Soal 3\n",
    "Menentukan setiap kolom numerik berdistribusi normal atau tidak. Gunakan normality test yang dikaitkan dengan histogram plot."
   ]
  },
  {
   "cell_type": "markdown",
   "metadata": {},
   "source": [
    "#### D’Agostino’s K-squared"
   ]
  },
  {
   "cell_type": "markdown",
   "metadata": {},
   "source": [
    "D’Agostino’s K-squared test menentukan apakah sebuah kolom berdistribusi normal atau tidak menurut skewness dan kurtosisnya. Jika hasil tes merupakan distribusi normal, maka pada histogram akan terlihat bell curve."
   ]
  },
  {
   "cell_type": "markdown",
   "metadata": {},
   "source": [
    "#### pH"
   ]
  },
  {
   "cell_type": "code",
   "execution_count": 21,
   "metadata": {},
   "outputs": [
    {
     "data": {
      "text/plain": [
       "<AxesSubplot:xlabel='pH', ylabel='Count'>"
      ]
     },
     "execution_count": 21,
     "metadata": {},
     "output_type": "execute_result"
    },
    {
     "data": {
      "image/png": "[encoded data removed]",
      "text/plain": [
       "<Figure size 432x288 with 1 Axes>"
      ]
     },
     "metadata": {
      "needs_background": "light"
     },
     "output_type": "display_data"
    }
   ],
   "source": [
    "sns.histplot(df[\"pH\"], kde=True)"
   ]
  },
  {
   "cell_type": "code",
   "execution_count": 22,
   "metadata": {},
   "outputs": [
    {
     "name": "stdout",
     "output_type": "stream",
     "text": [
      "stat=21.076, p=0.000\n",
      "Tidak Berdistribusi Normal\n"
     ]
    }
   ],
   "source": [
    "stat, p = stats.normaltest(df[\"pH\"])\n",
    "print('stat=%.3f, p=%.3f' % (stat, p))\n",
    "if p > 0.05:\n",
    "    print('Berdistribusi Normal')\n",
    "else:\n",
    "    print('Tidak Berdistribusi Normal')\n"
   ]
  },
  {
   "cell_type": "markdown",
   "metadata": {},
   "source": [
    "#### Hardness"
   ]
  },
  {
   "cell_type": "code",
   "execution_count": 23,
   "metadata": {},
   "outputs": [
    {
     "data": {
      "text/plain": [
       "<AxesSubplot:xlabel='Hardness', ylabel='Count'>"
      ]
     },
     "execution_count": 23,
     "metadata": {},
     "output_type": "execute_result"
    },
    {
     "data": {
      "image/png": "[encoded data removed]",
      "text/plain": [
       "<Figure size 432x288 with 1 Axes>"
      ]
     },
     "metadata": {
      "needs_background": "light"
     },
     "output_type": "display_data"
    }
   ],
   "source": [
    "sns.histplot(df[\"Hardness\"], kde=True)"
   ]
  },
  {
   "cell_type": "code",
   "execution_count": 24,
   "metadata": {},
   "outputs": [
    {
     "name": "stdout",
     "output_type": "stream",
     "text": [
      "stat=21.076, p=0.000\n",
      "Tidak Berdistribusi Normal\n"
     ]
    }
   ],
   "source": [
    "stat, p = stats.normaltest(df[\"pH\"])\n",
    "print('stat=%.3f, p=%.3f' % (stat, p))\n",
    "if p > 0.05:\n",
    "    print('Berdistribusi Normal')\n",
    "else:\n",
    "    print('Tidak Berdistribusi Normal')"
   ]
  },
  {
   "cell_type": "markdown",
   "metadata": {},
   "source": [
    "#### Solids"
   ]
  },
  {
   "cell_type": "code",
   "execution_count": 25,
   "metadata": {},
   "outputs": [
    {
     "data": {
      "text/plain": [
       "<AxesSubplot:xlabel='Solids', ylabel='Count'>"
      ]
     },
     "execution_count": 25,
     "metadata": {},
     "output_type": "execute_result"
    },
    {
     "data": {
      "image/png": "[encoded data removed]",
      "text/plain": [
       "<Figure size 432x288 with 1 Axes>"
      ]
     },
     "metadata": {
      "needs_background": "light"
     },
     "output_type": "display_data"
    }
   ],
   "source": [
    "sns.histplot(df[\"Solids\"], kde=True)"
   ]
  },
  {
   "cell_type": "code",
   "execution_count": 26,
   "metadata": {},
   "outputs": [
    {
     "name": "stdout",
     "output_type": "stream",
     "text": [
      "stat=109.060, p=0.000\n",
      "Tidak Berdistribusi Normal\n"
     ]
    }
   ],
   "source": [
    "stat, p = stats.normaltest(df[\"Solids\"])\n",
    "print('stat=%.3f, p=%.3f' % (stat, p))\n",
    "if p > 0.05:\n",
    "    print('Berdistribusi Normal')\n",
    "else:\n",
    "    print('Tidak Berdistribusi Normal')"
   ]
  },
  {
   "cell_type": "markdown",
   "metadata": {},
   "source": [
    "#### Chloramines"
   ]
  },
  {
   "cell_type": "code",
   "execution_count": 27,
   "metadata": {},
   "outputs": [
    {
     "data": {
      "text/plain": [
       "<AxesSubplot:xlabel='Chloramines', ylabel='Count'>"
      ]
     },
     "execution_count": 27,
     "metadata": {},
     "output_type": "execute_result"
    },
    {
     "data": {
      "image/png": "[encoded data removed]",
      "text/plain": [
       "<Figure size 432x288 with 1 Axes>"
      ]
     },
     "metadata": {
      "needs_background": "light"
     },
     "output_type": "display_data"
    }
   ],
   "source": [
    "sns.histplot(df[\"Chloramines\"], kde=True)"
   ]
  },
  {
   "cell_type": "code",
   "execution_count": 28,
   "metadata": {},
   "outputs": [
    {
     "name": "stdout",
     "output_type": "stream",
     "text": [
      "stat=16.584, p=0.000\n",
      "Tidak Berdistribusi Normal\n"
     ]
    }
   ],
   "source": [
    "stat, p = stats.normaltest(df[\"Chloramines\"])\n",
    "print('stat=%.3f, p=%.3f' % (stat, p))\n",
    "if p > 0.05:\n",
    "    print('Berdistribusi Normal')\n",
    "else:\n",
    "    print('Tidak Berdistribusi Normal')"
   ]
  },
  {
   "cell_type": "markdown",
   "metadata": {},
   "source": [
    "#### Sulfate"
   ]
  },
  {
   "cell_type": "code",
   "execution_count": 29,
   "metadata": {},
   "outputs": [
    {
     "data": {
      "text/plain": [
       "<AxesSubplot:xlabel='Sulfate', ylabel='Count'>"
      ]
     },
     "execution_count": 29,
     "metadata": {},
     "output_type": "execute_result"
    },
    {
     "data": {
      "image/png": "[encoded data removed]",
      "text/plain": [
       "<Figure size 432x288 with 1 Axes>"
      ]
     },
     "metadata": {
      "needs_background": "light"
     },
     "output_type": "display_data"
    }
   ],
   "source": [
    "sns.histplot(df[\"Sulfate\"], kde=True)"
   ]
  },
  {
   "cell_type": "code",
   "execution_count": 30,
   "metadata": {},
   "outputs": [
    {
     "name": "stdout",
     "output_type": "stream",
     "text": [
      "stat=29.261, p=0.000\n",
      "Tidak Berdistribusi Normal\n"
     ]
    }
   ],
   "source": [
    "stat, p = stats.normaltest(df[\"Sulfate\"])\n",
    "print('stat=%.3f, p=%.3f' % (stat, p))\n",
    "if p > 0.05:\n",
    "    print('Berdistribusi Normal')\n",
    "else:\n",
    "    print('Tidak Berdistribusi Normal')"
   ]
  },
  {
   "cell_type": "markdown",
   "metadata": {},
   "source": [
    "#### Conductivity"
   ]
  },
  {
   "cell_type": "code",
   "execution_count": 31,
   "metadata": {},
   "outputs": [
    {
     "data": {
      "text/plain": [
       "<AxesSubplot:xlabel='Conductivity', ylabel='Count'>"
      ]
     },
     "execution_count": 31,
     "metadata": {},
     "output_type": "execute_result"
    },
    {
     "data": {
      "image/png": "[encoded data removed]",
      "text/plain": [
       "<Figure size 432x288 with 1 Axes>"
      ]
     },
     "metadata": {
      "needs_background": "light"
     },
     "output_type": "display_data"
    }
   ],
   "source": [
    "sns.histplot(df[\"Conductivity\"], kde=True)"
   ]
  },
  {
   "cell_type": "code",
   "execution_count": 32,
   "metadata": {},
   "outputs": [
    {
     "name": "stdout",
     "output_type": "stream",
     "text": [
      "stat=29.277, p=0.000\n",
      "Tidak Berdistribusi Normal\n"
     ]
    }
   ],
   "source": [
    "stat, p = stats.normaltest(df[\"Conductivity\"])\n",
    "print('stat=%.3f, p=%.3f' % (stat, p))\n",
    "if p > 0.05:\n",
    "    print('Berdistribusi Normal')\n",
    "else:\n",
    "    print('Tidak Berdistribusi Normal')"
   ]
  },
  {
   "cell_type": "markdown",
   "metadata": {},
   "source": [
    "#### OrganicCarbon"
   ]
  },
  {
   "cell_type": "code",
   "execution_count": 33,
   "metadata": {},
   "outputs": [
    {
     "data": {
      "text/plain": [
       "<AxesSubplot:xlabel='OrganicCarbon', ylabel='Count'>"
      ]
     },
     "execution_count": 33,
     "metadata": {},
     "output_type": "execute_result"
    },
    {
     "data": {
      "image/png": "[encoded data removed]",
      "text/plain": [
       "<Figure size 432x288 with 1 Axes>"
      ]
     },
     "metadata": {
      "needs_background": "light"
     },
     "output_type": "display_data"
    }
   ],
   "source": [
    "sns.histplot(df[\"OrganicCarbon\"], kde=True)"
   ]
  },
  {
   "cell_type": "code",
   "execution_count": 34,
   "metadata": {},
   "outputs": [
    {
     "name": "stdout",
     "output_type": "stream",
     "text": [
      "stat=0.250, p=0.883\n",
      "Berdistribusi Normal\n"
     ]
    }
   ],
   "source": [
    "stat, p = stats.normaltest(df[\"OrganicCarbon\"])\n",
    "print('stat=%.3f, p=%.3f' % (stat, p))\n",
    "if p > 0.05:\n",
    "    print('Berdistribusi Normal')\n",
    "else:\n",
    "    print('Tidak Berdistribusi Normal')"
   ]
  },
  {
   "cell_type": "markdown",
   "metadata": {},
   "source": [
    "#### Trihalomethanes"
   ]
  },
  {
   "cell_type": "code",
   "execution_count": 35,
   "metadata": {},
   "outputs": [
    {
     "data": {
      "text/plain": [
       "<AxesSubplot:xlabel='Trihalomethanes', ylabel='Count'>"
      ]
     },
     "execution_count": 35,
     "metadata": {},
     "output_type": "execute_result"
    },
    {
     "data": {
      "image/png": "[encoded data removed]",
      "text/plain": [
       "<Figure size 432x288 with 1 Axes>"
      ]
     },
     "metadata": {
      "needs_background": "light"
     },
     "output_type": "display_data"
    }
   ],
   "source": [
    "sns.histplot(df[\"Trihalomethanes\"], kde=True)"
   ]
  },
  {
   "cell_type": "code",
   "execution_count": 36,
   "metadata": {},
   "outputs": [
    {
     "name": "stdout",
     "output_type": "stream",
     "text": [
      "stat=4.520, p=0.104\n",
      "Berdistribusi Normal\n"
     ]
    }
   ],
   "source": [
    "stat, p = stats.normaltest(df[\"Trihalomethanes\"])\n",
    "print('stat=%.3f, p=%.3f' % (stat, p))\n",
    "if p > 0.05:\n",
    "    print('Berdistribusi Normal')\n",
    "else:\n",
    "    print('Tidak Berdistribusi Normal')"
   ]
  },
  {
   "cell_type": "markdown",
   "metadata": {},
   "source": [
    "#### Turbidity"
   ]
  },
  {
   "cell_type": "code",
   "execution_count": 37,
   "metadata": {},
   "outputs": [
    {
     "data": {
      "text/plain": [
       "<AxesSubplot:xlabel='Turbidity', ylabel='Count'>"
      ]
     },
     "execution_count": 37,
     "metadata": {},
     "output_type": "execute_result"
    },
    {
     "data": {
      "image/png": "[encoded data removed]",
      "text/plain": [
       "<Figure size 432x288 with 1 Axes>"
      ]
     },
     "metadata": {
      "needs_background": "light"
     },
     "output_type": "display_data"
    }
   ],
   "source": [
    "sns.histplot(df[\"Turbidity\"], kde=True)"
   ]
  },
  {
   "cell_type": "code",
   "execution_count": 38,
   "metadata": {},
   "outputs": [
    {
     "name": "stdout",
     "output_type": "stream",
     "text": [
      "stat=0.524, p=0.769\n",
      "Berdistribusi Normal\n"
     ]
    }
   ],
   "source": [
    "stat, p = stats.normaltest(df[\"Turbidity\"])\n",
    "print('stat=%.3f, p=%.3f' % (stat, p))\n",
    "if p > 0.05:\n",
    "    print('Berdistribusi Normal')\n",
    "else:\n",
    "    print('Tidak Berdistribusi Normal')"
   ]
  },
  {
   "cell_type": "markdown",
   "metadata": {},
   "source": [
    "### Soal 4\n",
    "Melakukan test hipotesis 1 sampel, dengan menuliskan 6 langkah testing dan menampilkan juga boxplotnya untuk kolom/bagian yang bersesuaian."
   ]
  },
  {
   "cell_type": "code",
   "execution_count": 39,
   "metadata": {},
   "outputs": [],
   "source": [
    "def zScore1(X,u0,simpbaku,n):\n",
    "    return (X-u0)/(simpbaku/n**(1/2))\n",
    "def zScore2(p,p0,q0,n):\n",
    "    return (p-p0)/(p0*q0/n)**(1/2)"
   ]
  },
  {
   "cell_type": "markdown",
   "metadata": {},
   "source": [
    "#### a. Nilai Rata-rata pH di atas 7?"
   ]
  },
  {
   "cell_type": "code",
   "execution_count": 40,
   "metadata": {},
   "outputs": [
    {
     "name": "stdout",
     "output_type": "stream",
     "text": [
      "a. Nilai rata-rata pH di atas 7\n",
      "1. H0 : μ=7\n",
      "2. H1 : μ>7\n",
      "3. α = 0.05\n",
      "4. Uji Statistik : z=(x̄-μ0)/(σ/sqrt(n))\n",
      "   Daerah Kritis : z>zα : z >1.645\n",
      "5. Komputasi\n",
      "   x̄ : 7.0871927687138285 \n",
      "   n: 2010 \n",
      "   σ: 1.5728029470456655 \n",
      "   μ0 : 7\n",
      "   p_value : 0.006477571731867804 \n",
      "   z: 2.485\n",
      "6. Test Daerah Kritis\n",
      "   Tolak H0 karena nilai uji = 2.485>1.645 (z>zα)\n",
      "   Rata-Rata pH>7\n"
     ]
    },
    {
     "data": {
      "text/plain": [
       "<AxesSubplot:>"
      ]
     },
     "execution_count": 40,
     "metadata": {},
     "output_type": "execute_result"
    },
    {
     "data": {
      "image/png": "[encoded data removed]",
      "text/plain": [
       "<Figure size 432x288 with 1 Axes>"
      ]
     },
     "metadata": {
      "needs_background": "light"
     },
     "output_type": "display_data"
    }
   ],
   "source": [
    "print(\"a. Nilai rata-rata pH di atas 7\")\n",
    "\n",
    "#1\n",
    "H0 = \"μ=7\"\n",
    "print(\"1. H0 : {}\".format(H0))\n",
    "\n",
    "#2\n",
    "H1 = \"μ>7\"\n",
    "print(\"2. H1 : {}\".format(H1))\n",
    "\n",
    "#3\n",
    "α = 5e-2\n",
    "print(\"3. α = {}\".format(α))\n",
    "\n",
    "#4\n",
    "zα = round(stats.norm.ppf(1-α),3)\n",
    "print(\"4. Uji Statistik : z=(x̄-μ0)/(σ/sqrt(n))\")\n",
    "print(\"   Daerah Kritis : z>zα : z >{}\".format(zα))\n",
    "\n",
    "#5\n",
    "X = df[\"pH\"].mean()\n",
    "u0= 7\n",
    "simpbaku = df[\"pH\"].std()\n",
    "n = len( df[\"pH\"])\n",
    "z = round(zScore1(X,u0,simpbaku,n),3)\n",
    "p_value = 1-stats.norm.cdf(z)\n",
    "print(\"5. Komputasi\")\n",
    "print(\"   x̄ : {} \\n   n: {} \\n   σ: {} \\n   μ0 : {}\".format(X,n,simpbaku,u0))\n",
    "print(\"   p_value : {} \\n   z: {}\".format(str(p_value),str(z)))\n",
    "\n",
    "#6\n",
    "print(\"6. Test Daerah Kritis\")\n",
    "if (z > zα):\n",
    "    print(\"   Tolak H0 karena nilai uji = {}>{} (z>zα)\".format(str(z),str(zα)))\n",
    "    print(\"   Rata-Rata pH>7\")\n",
    "else :\n",
    "    print(\"   Terima H0 karena nilai uji = {}<={} (z<=zα)\".format(str(z),str(zα)))\n",
    "    print(\"   Rata-Rata pH=7\")\n",
    "    \n",
    "sns.boxplot(data = df[\"pH\"])"
   ]
  },
  {
   "cell_type": "markdown",
   "metadata": {},
   "source": [
    "#### b. Nilai Rata-rata Hardness tidak sama dengan 205?"
   ]
  },
  {
   "cell_type": "code",
   "execution_count": 41,
   "metadata": {},
   "outputs": [
    {
     "name": "stdout",
     "output_type": "stream",
     "text": [
      "b. Nilai Rata-rata Hardness tidak sama dengan 205?\n",
      "1. H0 : μ=205\n",
      "2. H1 : μ≠205\n",
      "3. α = 0.05\n",
      "4. Uji Statistik : z=(x̄-μ0)/(σ/sqrt(n))\n",
      "   Daerah Kritis : z>zα/2 atau z <-zα/2 : z>1.96 atau z<-1.96\n",
      "5. Komputasi\n",
      "   x̄ : 195.96920903783524 \n",
      "   n: 2010 \n",
      "   σ: 32.643165859429864 \n",
      "   μ0 : 205\n",
      "   p_value : 0.0 \n",
      "   z: -12.403\n",
      "6. Test Daerah Kritis\n",
      "   Tolak H0 karena nilai uji = -12.403<-1.96 (z<-zα/2)\n",
      "   Rata-rata hardness≠205\n"
     ]
    },
    {
     "data": {
      "text/plain": [
       "<AxesSubplot:>"
      ]
     },
     "execution_count": 41,
     "metadata": {},
     "output_type": "execute_result"
    },
    {
     "data": {
      "image/png": "[encoded data removed]",
      "text/plain": [
       "<Figure size 432x288 with 1 Axes>"
      ]
     },
     "metadata": {
      "needs_background": "light"
     },
     "output_type": "display_data"
    }
   ],
   "source": [
    "print(\"b. Nilai Rata-rata Hardness tidak sama dengan 205?\")\n",
    "\n",
    "#1\n",
    "H0 = \"μ=205\"\n",
    "print(\"1. H0 : {}\".format(H0))\n",
    "\n",
    "#2\n",
    "H1 = \"μ≠205\"\n",
    "print(\"2. H1 : {}\".format(H1))\n",
    "\n",
    "#3\n",
    "α = 5e-2\n",
    "print(\"3. α = {}\".format(α))\n",
    "\n",
    "#4\n",
    "zα2 = round(stats.norm.ppf(1-(α/2)),3)\n",
    "print(\"4. Uji Statistik : z=(x̄-μ0)/(σ/sqrt(n))\")\n",
    "print(\"   Daerah Kritis : z>zα/2 atau z <-zα/2 : z>{} atau z<{}\".format(zα2,-1*zα2))\n",
    "\n",
    "#5\n",
    "X = df[\"Hardness\"].mean()\n",
    "u0= 205\n",
    "simpbaku = df[\"Hardness\"].std()\n",
    "n = len( df[\"Hardness\"])\n",
    "z = round(zScore1(X,u0,simpbaku,n),3)\n",
    "p_value = 1-abs(stats.norm.cdf(z)-stats.norm.cdf(-1*z))\n",
    "print(\"5. Komputasi\")\n",
    "print(\"   x̄ : {} \\n   n: {} \\n   σ: {} \\n   μ0 : {}\".format(X,n,simpbaku,u0))\n",
    "print(\"   p_value : {} \\n   z: {}\".format(str(p_value),str(z)))\n",
    "\n",
    "#6\n",
    "print(\"6. Test Daerah Kritis\")\n",
    "if (z > zα2 or z<-1*zα2):\n",
    "    if (z > zα2):\n",
    "        print(\"   Tolak H0 karena nilai uji = {}>{} (z>zα/2)\".format(z,zα2))\n",
    "    else:\n",
    "        print(\"   Tolak H0 karena nilai uji = {}<{} (z<-zα/2)\".format(z,-1*zα2))\n",
    "    print(\"   Rata-rata hardness≠205\")\n",
    "else :\n",
    "    print(\"   Terima H0 karena nilai uji = {}<{}<{} (-zα/2<z<zα/2)\".format(-1*zα2,z,zα2))\n",
    "    print(\"   Rata-rata hardness = 205\")\n",
    "    \n",
    "sns.boxplot(data = df[\"Hardness\"])"
   ]
  },
  {
   "cell_type": "markdown",
   "metadata": {},
   "source": [
    "#### c. Nilai Rata-rata 100 baris pertama kolom Solids bukan 21900?"
   ]
  },
  {
   "cell_type": "code",
   "execution_count": 42,
   "metadata": {},
   "outputs": [
    {
     "name": "stdout",
     "output_type": "stream",
     "text": [
      "c. Nilai Rata-rata 100 baris pertama kolom Solids bukan 21900?\n",
      "1. H0 : μ=21900\n",
      "2. H1 : μ≠21900\n",
      "3. α = 0.05\n",
      "4. Uji Statistik : z=(x̄-μ0)/(σ/sqrt(n))\n",
      "   Daerah Kritis : z>zα/2 atau z <-zα/2 : z>1.96 atau z<-1.96\n",
      "5. Komputasi\n",
      "   x̄ : 22347.334446383426 \n",
      "   n: 2010 \n",
      "   σ: 8625.397911190576 \n",
      "   μ0 : 21900\n",
      "   p_value : 0.020071960200548133 \n",
      "   z: 2.325\n",
      "6. Test Daerah Kritis\n",
      "   Tolak H0 karena nilai uji = 2.325>1.96 (z>zα/2)\n",
      "   Nilai Rata-rata 100 baris pertama kolom Solids ≠ 21900\n"
     ]
    },
    {
     "data": {
      "text/plain": [
       "<AxesSubplot:>"
      ]
     },
     "execution_count": 42,
     "metadata": {},
     "output_type": "execute_result"
    },
    {
     "data": {
      "image/png": "[encoded data removed]",
      "text/plain": [
       "<Figure size 432x288 with 1 Axes>"
      ]
     },
     "metadata": {
      "needs_background": "light"
     },
     "output_type": "display_data"
    }
   ],
   "source": [
    "print(\"c. Nilai Rata-rata 100 baris pertama kolom Solids bukan 21900?\")\n",
    "\n",
    "#1\n",
    "H0 = \"μ=21900\"\n",
    "print(\"1. H0 : {}\".format(H0))\n",
    "\n",
    "#2\n",
    "H1 = \"μ≠21900\"\n",
    "print(\"2. H1 : {}\".format(H1))\n",
    "\n",
    "#3\n",
    "α = 5e-2\n",
    "print(\"3. α = {}\".format(α))\n",
    "\n",
    "#4\n",
    "zα2 = round(stats.norm.ppf(1-(α/2)),3)\n",
    "print(\"4. Uji Statistik : z=(x̄-μ0)/(σ/sqrt(n))\")\n",
    "print(\"   Daerah Kritis : z>zα/2 atau z <-zα/2 : z>{} atau z<{}\".format(zα2,-1*zα2))\n",
    "\n",
    "#5\n",
    "data = df[\"Solids\"][:100]\n",
    "X = data.mean()\n",
    "u0= 21900\n",
    "simpbaku =  df[\"Solids\"].std()\n",
    "n = len(  df[\"Solids\"])\n",
    "z = round(zScore1(X,u0,simpbaku,n),3)\n",
    "p_value =  1-abs(stats.norm.cdf(z)-stats.norm.cdf(-1*z))\n",
    "print(\"5. Komputasi\")\n",
    "print(\"   x̄ : {} \\n   n: {} \\n   σ: {} \\n   μ0 : {}\".format(X,n,simpbaku,u0))\n",
    "print(\"   p_value : {} \\n   z: {}\".format(str(p_value),str(z)))\n",
    "\n",
    "#6\n",
    "print(\"6. Test Daerah Kritis\")\n",
    "if (z > zα2 or z<-1*zα2):\n",
    "    if (z > zα2):\n",
    "        print(\"   Tolak H0 karena nilai uji = {}>{} (z>zα/2)\".format(z,zα2))\n",
    "    else:\n",
    "        print(\"   Tolak H0 karena nilai uji = {}<{} (z<-zα/2)\".format(z,-1*zα2))\n",
    "    print(\"   Nilai Rata-rata 100 baris pertama kolom Solids ≠ 21900\")\n",
    "else :\n",
    "    print(\"   Terima H0 karena nilai uji = {}<{}<{} (-zα/2<z<zα/2)\".format(-1*zα2,z,zα2))\n",
    "    print(\"   Nilai Rata-rata 100 baris pertama kolom Solids = 21900\")\n",
    "    \n",
    "sns.boxplot(data = df[\"Solids\"])"
   ]
  },
  {
   "cell_type": "markdown",
   "metadata": {},
   "source": [
    "#### d. Proporsi nilai Conductivity yang lebih dari 450, adalah tidak sama dengan 10%?"
   ]
  },
  {
   "cell_type": "code",
   "execution_count": 43,
   "metadata": {},
   "outputs": [
    {
     "name": "stdout",
     "output_type": "stream",
     "text": [
      "d. Proporsi nilai Conductivity yang lebih dari 450, adalah tidak sama dengan 10%\n",
      "1. H0 : p = 0,10\n",
      "2. H1 : p≠0,10\n",
      "3. α = 0.05\n",
      "4. Uji Statistik : z=(p̂-p0)/sqrt(p0*q0/n), σ diketahui\n",
      "   Daerah Kritis : z>zα/2 atau z <-zα/2 : z>1.96 atau z<-1.96\n",
      "5. Komputasi\n",
      "   p̂ : 0.3706467661691542 \n",
      "   n: 2010 \n",
      "   p0: 0.1 \n",
      "   q0 : 0.9\n",
      "   p_value : 0.0 \n",
      "   z: 40.446\n",
      "6. Test Daerah Kritis\n",
      "   Tolak H0 karena nilai uji = 40.446>1.96 (z>zα/2)\n",
      "   Proporsi nilai Conductivity yang lebih dari 450 ≠ 10%\n"
     ]
    },
    {
     "data": {
      "text/plain": [
       "<AxesSubplot:>"
      ]
     },
     "execution_count": 43,
     "metadata": {},
     "output_type": "execute_result"
    },
    {
     "data": {
      "image/png": "[encoded data removed]",
      "text/plain": [
       "<Figure size 432x288 with 1 Axes>"
      ]
     },
     "metadata": {
      "needs_background": "light"
     },
     "output_type": "display_data"
    }
   ],
   "source": [
    "print(\"d. Proporsi nilai Conductivity yang lebih dari 450, adalah tidak sama dengan 10%\")\n",
    "\n",
    "#1\n",
    "H0 = \"p = 0,10\"\n",
    "print(\"1. H0 : {}\".format(H0))\n",
    "\n",
    "#2\n",
    "H1 = \"p≠0,10\"\n",
    "print(\"2. H1 : {}\".format(H1))\n",
    "\n",
    "#3\n",
    "α = 5e-2\n",
    "print(\"3. α = {}\".format(α))\n",
    "\n",
    "#4\n",
    "zα2 = round(stats.norm.ppf(1-(α/2)),3)\n",
    "print(\"4. Uji Statistik : z=(p̂-p0)/sqrt(p0*q0/n), σ diketahui\")\n",
    "print(\"   Daerah Kritis : z>zα/2 atau z <-zα/2 : z>{} atau z<{}\".format(zα2,-1*zα2))\n",
    "\n",
    "#5\n",
    "data = [item for item in df[\"Conductivity\"] if item >450]\n",
    "p = len(data)/len(df[\"Conductivity\"])\n",
    "p0 = 0.1\n",
    "q0= 1-p0\n",
    "n = len(  df[\"Conductivity\"])\n",
    "z = round(zScore2(p,p0,q0,n),3)\n",
    "p_value =  1-abs(stats.norm.cdf(z)-stats.norm.cdf(-1*z))\n",
    "print(\"5. Komputasi\")\n",
    "print(\"   p̂ : {} \\n   n: {} \\n   p0: {} \\n   q0 : {}\".format(p,n,p0,q0))\n",
    "print(\"   p_value : {} \\n   z: {}\".format(str(p_value),str(z)))\n",
    "\n",
    "#6\n",
    "print(\"6. Test Daerah Kritis\")\n",
    "if (z > zα2 or z<-1*zα2):\n",
    "    if (z > zα2):\n",
    "        print(\"   Tolak H0 karena nilai uji = {}>{} (z>zα/2)\".format(z,zα2))\n",
    "    else:\n",
    "        print(\"   Tolak H0 karena nilai uji = {}<{} (z<-zα/2)\".format(z,-1*zα2))\n",
    "    print(\"   Proporsi nilai Conductivity yang lebih dari 450 ≠ 10%\")\n",
    "else :\n",
    "    print(\"   Terima H0 karena nilai uji = {}<{}<{} (-zα/2<z<zα/2)\".format(-1*zα2,z,zα2))\n",
    "    print(\"   Proporsi nilai Conductivity yang lebih dari 450 = 10%\")\n",
    "    \n",
    "sns.boxplot(data = df[\"Conductivity\"])"
   ]
  },
  {
   "cell_type": "markdown",
   "metadata": {},
   "source": [
    "#### e. Proporsi nilai Trihalomethanes yang kurang dari 40, adalah kurang dari 5%?"
   ]
  },
  {
   "cell_type": "code",
   "execution_count": 44,
   "metadata": {},
   "outputs": [
    {
     "name": "stdout",
     "output_type": "stream",
     "text": [
      "e.Proporsi nilai Trihalomethanes yang kurang dari 40, adalah kurang dari 5%?\n",
      "1. H0 : p = 0,05\n",
      "2. H1 : p<0,05\n",
      "3. α = 0.05\n",
      "4. Uji Statistik : z=(p̂-p0)/sqrt(p0*q0/n), σ diketahui\n",
      "   Daerah Kritis : z <-zα : z<-1.645\n",
      "5. Komputasi\n",
      "   p̂ : 0.0527363184079602 \n",
      "   n: 2010 \n",
      "   p0: 0.05 \n",
      "   q0 : 0.95\n",
      "   p_value : 0.7132825580297869 \n",
      "   z: 0.563\n",
      "6. Test Daerah Kritis\n",
      "   Terima H0 karena nilai uji = 0.563>=1.645 (z>=zα)\n",
      "   Proporsi nilai Trihalomethanes yang kurang dari 40, adalah sama dengan 5%\n"
     ]
    },
    {
     "data": {
      "text/plain": [
       "<AxesSubplot:>"
      ]
     },
     "execution_count": 44,
     "metadata": {},
     "output_type": "execute_result"
    },
    {
     "data": {
      "image/png": "[encoded data removed]",
      "text/plain": [
       "<Figure size 432x288 with 1 Axes>"
      ]
     },
     "metadata": {
      "needs_background": "light"
     },
     "output_type": "display_data"
    }
   ],
   "source": [
    "print(\"e.Proporsi nilai Trihalomethanes yang kurang dari 40, adalah kurang dari 5%?\")\n",
    "\n",
    "#1\n",
    "H0 = \"p = 0,05\"\n",
    "print(\"1. H0 : {}\".format(H0))\n",
    "\n",
    "#2\n",
    "H1 = \"p<0,05\"\n",
    "print(\"2. H1 : {}\".format(H1))\n",
    "\n",
    "#3\n",
    "α = 5e-2\n",
    "print(\"3. α = {}\".format(α))\n",
    "\n",
    "#4\n",
    "zα = round(stats.norm.ppf(1-α),3)\n",
    "print(\"4. Uji Statistik : z=(p̂-p0)/sqrt(p0*q0/n), σ diketahui\")\n",
    "print(\"   Daerah Kritis : z <-zα : z<{}\".format(-1*zα))\n",
    "\n",
    "#5\n",
    "data = [item for item in df[\"Trihalomethanes\"] if item <40]\n",
    "p = len(data)/len(df[\"Trihalomethanes\"])\n",
    "p0 = 0.05\n",
    "q0= 1-p0\n",
    "n = len(  df[\"Trihalomethanes\"])\n",
    "z = round(zScore2(p,p0,q0,n),3)\n",
    "p_value = stats.norm.cdf(z)\n",
    "print(\"5. Komputasi\")\n",
    "print(\"   p̂ : {} \\n   n: {} \\n   p0: {} \\n   q0 : {}\".format(p,n,p0,q0))\n",
    "print(\"   p_value : {} \\n   z: {}\".format(str(p_value),str(z)))\n",
    "\n",
    "#6\n",
    "print(\"6. Test Daerah Kritis\")\n",
    "if (z < -1*zα):\n",
    "    print(\"   Tolak H0 karena nilai uji = {}<{} (z<-zα)\".format(str(z),str(-1*zα)))\n",
    "    print(\"   Proporsi nilai Trihalomethanes yang kurang dari 40, adalah kurang dari 5%\")\n",
    "else :\n",
    "    print(\"   Terima H0 karena nilai uji = {}>={} (z>=zα)\".format(str(z),str(zα)))\n",
    "    print(\"   Proporsi nilai Trihalomethanes yang kurang dari 40, adalah sama dengan 5%\")\n",
    "    \n",
    "sns.boxplot(data = df[\"Trihalomethanes\"])"
   ]
  },
  {
   "cell_type": "markdown",
   "metadata": {},
   "source": [
    "### Soal 5\n",
    "Melakukan test hipotesis 2 sampel, dengan menuliskan 6 langkah testing dan menampilkan juga boxplotnya untuk kolom/bagian yang bersesuaian."
   ]
  },
  {
   "cell_type": "code",
   "execution_count": 45,
   "metadata": {},
   "outputs": [],
   "source": [
    "def zScore(d0, x1, x2, v1, v2, n1, n2):\n",
    "  return((x1 - x2) - d0)/(((v1/n1) + (v2/n2))**0.5)"
   ]
  },
  {
   "cell_type": "markdown",
   "metadata": {},
   "source": [
    "#### a. Data kolom Sulfate dibagi 2 sama rata: bagian awal dan bagian akhir kolom. Benarkah rata-rata kedua bagian tersebut sama?"
   ]
  },
  {
   "cell_type": "markdown",
   "metadata": {},
   "source": [
    "Rata-rata Bagian Awal Kolom Sulfate"
   ]
  },
  {
   "cell_type": "code",
   "execution_count": 46,
   "metadata": {},
   "outputs": [
    {
     "data": {
      "text/plain": [
       "331.30532950549565"
      ]
     },
     "execution_count": 46,
     "metadata": {},
     "output_type": "execute_result"
    }
   ],
   "source": [
    "df['Sulfate'].iloc[:len(df)//2].mean()"
   ]
  },
  {
   "cell_type": "code",
   "execution_count": 47,
   "metadata": {},
   "outputs": [
    {
     "data": {
      "text/plain": [
       "<AxesSubplot:>"
      ]
     },
     "execution_count": 47,
     "metadata": {},
     "output_type": "execute_result"
    },
    {
     "data": {
      "image/png": "[encoded data removed]",
      "text/plain": [
       "<Figure size 432x288 with 1 Axes>"
      ]
     },
     "metadata": {
      "needs_background": "light"
     },
     "output_type": "display_data"
    }
   ],
   "source": [
    "df.iloc[:len(df)//2].boxplot(['Sulfate'])"
   ]
  },
  {
   "cell_type": "markdown",
   "metadata": {},
   "source": [
    "Rata-rata Bagian Akhir Kolom Sulfate"
   ]
  },
  {
   "cell_type": "code",
   "execution_count": 48,
   "metadata": {},
   "outputs": [
    {
     "data": {
      "text/plain": [
       "335.11742332488245"
      ]
     },
     "execution_count": 48,
     "metadata": {},
     "output_type": "execute_result"
    }
   ],
   "source": [
    "df['Sulfate'].iloc[len(df)//2:].mean()"
   ]
  },
  {
   "cell_type": "code",
   "execution_count": 49,
   "metadata": {},
   "outputs": [
    {
     "data": {
      "text/plain": [
       "<AxesSubplot:>"
      ]
     },
     "execution_count": 49,
     "metadata": {},
     "output_type": "execute_result"
    },
    {
     "data": {
      "image/png": "[encoded data removed]",
      "text/plain": [
       "<Figure size 432x288 with 1 Axes>"
      ]
     },
     "metadata": {
      "needs_background": "light"
     },
     "output_type": "display_data"
    }
   ],
   "source": [
    "df.iloc[len(df)//2:].boxplot(['Sulfate'])"
   ]
  },
  {
   "cell_type": "markdown",
   "metadata": {},
   "source": [
    "##### Enam Langkah Testing SulfateAwal dan SulfateAkhir"
   ]
  },
  {
   "cell_type": "markdown",
   "metadata": {},
   "source": [
    "1. Hipotesis Nol  \n",
    "   ${H_0: \\mu_{SulfateAwal} = \\mu_{SulfateAkhir}}$\n",
    "2. Hipotesis Alternatif  \n",
    "   ${H_1: \\mu_{SulfateAwal} \\ne \\mu_{SulfateAkhir}}$\n",
    "3. Tingkat Signifikan  \n",
    "   ${\\alpha = 0.05}$"
   ]
  },
  {
   "cell_type": "markdown",
   "metadata": {},
   "source": [
    "4. Penentuan uji statistik dan daerah kritis  "
   ]
  },
  {
   "cell_type": "code",
   "execution_count": 50,
   "metadata": {},
   "outputs": [
    {
     "data": {
      "text/plain": [
       "1.96"
      ]
     },
     "execution_count": 50,
     "metadata": {},
     "output_type": "execute_result"
    }
   ],
   "source": [
    "zalpha = stats.norm.ppf(1 - 0.05/2)\n",
    "round(zalpha, 3)"
   ]
  },
  {
   "cell_type": "markdown",
   "metadata": {},
   "source": [
    "\n",
    "5. Perhitungan uji statistik dan p-value  "
   ]
  },
  {
   "cell_type": "code",
   "execution_count": 51,
   "metadata": {},
   "outputs": [
    {
     "name": "stdout",
     "output_type": "stream",
     "text": [
      "z: -2.0752690696871983\n",
      "p-value: 0.03796160438512852\n"
     ]
    }
   ],
   "source": [
    "bagianAwal = df['Sulfate'].iloc[:len(df)//2]\n",
    "bagianAkhir = df['Sulfate'].iloc[len(df)//2:]\n",
    "\n",
    "meanAwal = bagianAwal.mean()\n",
    "meanAkhir = bagianAkhir.mean()\n",
    "\n",
    "varAwal = bagianAwal.var()\n",
    "varAkhir = bagianAkhir.var()\n",
    "\n",
    "z = zScore(0, meanAwal, meanAkhir, varAwal, varAkhir, len(bagianAwal), len(bagianAkhir))\n",
    "p = 2 * (1 - stats.norm.cdf(abs(z)))\n",
    "\n",
    "print(\"z:\", z)\n",
    "print(\"p-value:\", p)"
   ]
  },
  {
   "cell_type": "markdown",
   "metadata": {},
   "source": [
    "6. Keputusan"
   ]
  },
  {
   "cell_type": "code",
   "execution_count": 52,
   "metadata": {},
   "outputs": [
    {
     "name": "stdout",
     "output_type": "stream",
     "text": [
      "Hipotesis Null ditolak\n"
     ]
    }
   ],
   "source": [
    "if z < -zalpha or z > zalpha:\n",
    "  print(\"Hipotesis Null ditolak\")\n",
    "else:\n",
    "  print(\"Hipotesis Null diterima\")"
   ]
  },
  {
   "cell_type": "markdown",
   "metadata": {},
   "source": [
    "#### b. Data kolom OrganicCarbon dibagi 2 sama rata: bagian awal dan bagian akhir kolom. Benarkah rata-rata bagian awal lebih besar dari pada bagian akhir sebesar 0.15?"
   ]
  },
  {
   "cell_type": "markdown",
   "metadata": {},
   "source": [
    "Rata-rata Bagian Awal Kolom OrganicCarbon"
   ]
  },
  {
   "cell_type": "code",
   "execution_count": 53,
   "metadata": {},
   "outputs": [
    {
     "data": {
      "text/plain": [
       "14.253972723723393"
      ]
     },
     "execution_count": 53,
     "metadata": {},
     "output_type": "execute_result"
    }
   ],
   "source": [
    "df['OrganicCarbon'].iloc[:len(df)//2].mean()"
   ]
  },
  {
   "cell_type": "code",
   "execution_count": 54,
   "metadata": {},
   "outputs": [
    {
     "data": {
      "text/plain": [
       "<AxesSubplot:>"
      ]
     },
     "execution_count": 54,
     "metadata": {},
     "output_type": "execute_result"
    },
    {
     "data": {
      "image/png": "[encoded data removed]",
      "text/plain": [
       "<Figure size 432x288 with 1 Axes>"
      ]
     },
     "metadata": {
      "needs_background": "light"
     },
     "output_type": "display_data"
    }
   ],
   "source": [
    "df.iloc[:len(df)//2].boxplot(['OrganicCarbon'])"
   ]
  },
  {
   "cell_type": "markdown",
   "metadata": {},
   "source": [
    "Rata-rata Bagian Akhir Kolom OrganicCarbon"
   ]
  },
  {
   "cell_type": "code",
   "execution_count": 55,
   "metadata": {},
   "outputs": [
    {
     "data": {
      "text/plain": [
       "14.461907080372756"
      ]
     },
     "execution_count": 55,
     "metadata": {},
     "output_type": "execute_result"
    }
   ],
   "source": [
    "df['OrganicCarbon'].iloc[len(df)//2:].mean()"
   ]
  },
  {
   "cell_type": "code",
   "execution_count": 56,
   "metadata": {},
   "outputs": [
    {
     "data": {
      "text/plain": [
       "<AxesSubplot:>"
      ]
     },
     "execution_count": 56,
     "metadata": {},
     "output_type": "execute_result"
    },
    {
     "data": {
      "image/png": "[encoded data removed]",
      "text/plain": [
       "<Figure size 432x288 with 1 Axes>"
      ]
     },
     "metadata": {
      "needs_background": "light"
     },
     "output_type": "display_data"
    }
   ],
   "source": [
    "df.iloc[len(df)//2:].boxplot(['OrganicCarbon'])"
   ]
  },
  {
   "cell_type": "markdown",
   "metadata": {},
   "source": [
    "##### Enam Langkah Testing OrganicCarbonAwal dan OrganicCarbonAkhir"
   ]
  },
  {
   "cell_type": "markdown",
   "metadata": {},
   "source": [
    "1. Hipotesis Nol  \n",
    "   ${H_0: \\mu_{OrganicCarbonAwal} = \\mu_{OrganicCarbonAkhir} + 0.15}$\n",
    "2. Hipotesis Alternatif  \n",
    "   ${H_1: \\mu_{OrganicCarbonAwal} \\ne \\mu_{OrganicCarbonAkhir} + 0.15}$\n",
    "3. Tingkat Signifikan  \n",
    "   ${\\alpha = 0.05}$"
   ]
  },
  {
   "cell_type": "markdown",
   "metadata": {},
   "source": [
    "4. Penentuan uji statistik dan daerah kritis  "
   ]
  },
  {
   "cell_type": "code",
   "execution_count": 57,
   "metadata": {},
   "outputs": [
    {
     "data": {
      "text/plain": [
       "1.96"
      ]
     },
     "execution_count": 57,
     "metadata": {},
     "output_type": "execute_result"
    }
   ],
   "source": [
    "zalpha = stats.norm.ppf(1 - 0.05/2)\n",
    "round(zalpha, 3)"
   ]
  },
  {
   "cell_type": "markdown",
   "metadata": {},
   "source": [
    "5. Perhitungan uji statistik dan p-value  "
   ]
  },
  {
   "cell_type": "code",
   "execution_count": 58,
   "metadata": {},
   "outputs": [
    {
     "name": "stdout",
     "output_type": "stream",
     "text": [
      "z: -2.413145517798807\n",
      "p-value: 0.015815503817599996\n"
     ]
    }
   ],
   "source": [
    "bagianAwal = df['OrganicCarbon'].iloc[:len(df)//2]\n",
    "bagianAkhir = df['OrganicCarbon'].iloc[len(df)//2:]\n",
    "\n",
    "meanAwal = bagianAwal.mean()\n",
    "meanAkhir = bagianAkhir.mean()\n",
    "\n",
    "varAwal = bagianAwal.var()\n",
    "varAkhir = bagianAkhir.var()\n",
    "\n",
    "z = zScore(0.15, meanAwal, meanAkhir, varAwal, varAkhir, len(bagianAwal), len(bagianAkhir))\n",
    "p = 2 * (1 - stats.norm.cdf(abs(z)))\n",
    "\n",
    "print(\"z:\", z)\n",
    "print(\"p-value:\", p)"
   ]
  },
  {
   "cell_type": "markdown",
   "metadata": {},
   "source": [
    "6. Keputusan"
   ]
  },
  {
   "cell_type": "code",
   "execution_count": 59,
   "metadata": {},
   "outputs": [
    {
     "name": "stdout",
     "output_type": "stream",
     "text": [
      "Hipotesis Null ditolak\n"
     ]
    }
   ],
   "source": [
    "if z < -zalpha or z > zalpha:\n",
    "  print(\"Hipotesis Null ditolak\")\n",
    "else:\n",
    "  print(\"Hipotesis Null diterima\")"
   ]
  },
  {
   "cell_type": "markdown",
   "metadata": {},
   "source": [
    "#### c. Rata-rata 100 baris pertama kolom Chloramines sama dengan 100 baris terakhirnya?"
   ]
  },
  {
   "cell_type": "markdown",
   "metadata": {},
   "source": [
    "Rata-rata 100 Baris Pertama Kolom Chloramines"
   ]
  },
  {
   "cell_type": "code",
   "execution_count": 60,
   "metadata": {},
   "outputs": [
    {
     "data": {
      "text/plain": [
       "7.007771140423921"
      ]
     },
     "execution_count": 60,
     "metadata": {},
     "output_type": "execute_result"
    }
   ],
   "source": [
    "df['Chloramines'].iloc[:100].mean()"
   ]
  },
  {
   "cell_type": "code",
   "execution_count": 61,
   "metadata": {},
   "outputs": [
    {
     "data": {
      "text/plain": [
       "<AxesSubplot:>"
      ]
     },
     "execution_count": 61,
     "metadata": {},
     "output_type": "execute_result"
    },
    {
     "data": {
      "image/png": "[encoded data removed]",
      "text/plain": [
       "<Figure size 432x288 with 1 Axes>"
      ]
     },
     "metadata": {
      "needs_background": "light"
     },
     "output_type": "display_data"
    }
   ],
   "source": [
    "df.iloc[:100].boxplot(['Chloramines'])"
   ]
  },
  {
   "cell_type": "markdown",
   "metadata": {},
   "source": [
    "Rata-rata 100 Baris Terakhir Kolom Chloramines"
   ]
  },
  {
   "cell_type": "code",
   "execution_count": 62,
   "metadata": {},
   "outputs": [
    {
     "data": {
      "text/plain": [
       "7.147197636249925"
      ]
     },
     "execution_count": 62,
     "metadata": {},
     "output_type": "execute_result"
    }
   ],
   "source": [
    "df['Chloramines'].iloc[-100:].mean()"
   ]
  },
  {
   "cell_type": "code",
   "execution_count": 63,
   "metadata": {},
   "outputs": [
    {
     "data": {
      "text/plain": [
       "<AxesSubplot:>"
      ]
     },
     "execution_count": 63,
     "metadata": {},
     "output_type": "execute_result"
    },
    {
     "data": {
      "image/png": "[encoded data removed]",
      "text/plain": [
       "<Figure size 432x288 with 1 Axes>"
      ]
     },
     "metadata": {
      "needs_background": "light"
     },
     "output_type": "display_data"
    }
   ],
   "source": [
    "df.iloc[-100:].boxplot(['Chloramines'])"
   ]
  },
  {
   "cell_type": "markdown",
   "metadata": {},
   "source": [
    "##### Enam Langkah Testing ChloraminesAwal dan ChloraminesAkhir:"
   ]
  },
  {
   "cell_type": "markdown",
   "metadata": {},
   "source": [
    "1. Hipotesis Nol  \n",
    "   ${H_0: \\mu_{ChloraminesAwal} = \\mu_{ChloraminesAkhir}}$\n",
    "2. Hipotesis Alternatif  \n",
    "   ${H_1: \\mu_{ChloraminesAwal} \\ne \\mu_{ChloraminesAkhir}}$\n",
    "3. Tingkat Signifikan  \n",
    "   ${\\alpha = 0.05}$"
   ]
  },
  {
   "cell_type": "markdown",
   "metadata": {},
   "source": [
    "4. Penentuan uji statistik dan daerah kritis"
   ]
  },
  {
   "cell_type": "code",
   "execution_count": 64,
   "metadata": {},
   "outputs": [
    {
     "data": {
      "text/plain": [
       "1.96"
      ]
     },
     "execution_count": 64,
     "metadata": {},
     "output_type": "execute_result"
    }
   ],
   "source": [
    "zalpha = stats.norm.ppf(1 - 0.05/2)\n",
    "round(zalpha, 3)"
   ]
  },
  {
   "cell_type": "markdown",
   "metadata": {},
   "source": [
    "5. Perhitungan uji statistik dan p-value"
   ]
  },
  {
   "cell_type": "code",
   "execution_count": 65,
   "metadata": {},
   "outputs": [
    {
     "name": "stdout",
     "output_type": "stream",
     "text": [
      "z: -0.7059424842236872\n",
      "p-value: 0.48022390604502796\n"
     ]
    }
   ],
   "source": [
    "bagianAwal = df['Chloramines'].iloc[:100]\n",
    "bagianAkhir = df['Chloramines'].iloc[-100:]\n",
    "\n",
    "meanAwal = bagianAwal.mean()\n",
    "meanAkhir = bagianAkhir.mean()\n",
    "\n",
    "varAwal = bagianAwal.var()\n",
    "varAkhir = bagianAkhir.var()\n",
    "\n",
    "z = zScore(0, meanAwal, meanAkhir, varAwal, varAkhir, len(bagianAwal), len(bagianAkhir))\n",
    "p = 2 * (1 - stats.norm.cdf(abs(z)))\n",
    "\n",
    "print(\"z:\", z)\n",
    "print(\"p-value:\", p)"
   ]
  },
  {
   "cell_type": "markdown",
   "metadata": {},
   "source": [
    "6. Keputusan"
   ]
  },
  {
   "cell_type": "code",
   "execution_count": 66,
   "metadata": {},
   "outputs": [
    {
     "name": "stdout",
     "output_type": "stream",
     "text": [
      "Hipotesis Null diterima\n"
     ]
    }
   ],
   "source": [
    "if z < -zalpha or z > zalpha:\n",
    "  print(\"Hipotesis Null ditolak\")\n",
    "else:\n",
    "  print(\"Hipotesis Null diterima\")"
   ]
  },
  {
   "cell_type": "markdown",
   "metadata": {},
   "source": [
    "#### d. Proporsi nilai bagian awal Turbidity yang lebih dari 4, adalah lebih besar daripada, proporsi nilai yang sama di bagian akhir Turbidity ?"
   ]
  },
  {
   "cell_type": "markdown",
   "metadata": {},
   "source": [
    "Bagian Awal Kolom Turbidity"
   ]
  },
  {
   "cell_type": "code",
   "execution_count": 67,
   "metadata": {},
   "outputs": [
    {
     "data": {
      "text/plain": [
       "count    1005.000000\n",
       "mean        3.942879\n",
       "std         0.786455\n",
       "min         1.496101\n",
       "25%         3.403393\n",
       "50%         3.964450\n",
       "75%         4.496627\n",
       "max         6.494249\n",
       "Name: Turbidity, dtype: float64"
      ]
     },
     "execution_count": 67,
     "metadata": {},
     "output_type": "execute_result"
    }
   ],
   "source": [
    "df['Turbidity'].iloc[:len(df)//2].describe()"
   ]
  },
  {
   "cell_type": "code",
   "execution_count": 68,
   "metadata": {},
   "outputs": [
    {
     "data": {
      "text/plain": [
       "<AxesSubplot:>"
      ]
     },
     "execution_count": 68,
     "metadata": {},
     "output_type": "execute_result"
    },
    {
     "data": {
      "image/png": "[encoded data removed]",
      "text/plain": [
       "<Figure size 432x288 with 1 Axes>"
      ]
     },
     "metadata": {
      "needs_background": "light"
     },
     "output_type": "display_data"
    }
   ],
   "source": [
    "df.iloc[:len(df)//2].boxplot(['Turbidity'])"
   ]
  },
  {
   "cell_type": "markdown",
   "metadata": {},
   "source": [
    "Bagian Akhir Kolom Turbidity"
   ]
  },
  {
   "cell_type": "code",
   "execution_count": 69,
   "metadata": {},
   "outputs": [
    {
     "data": {
      "text/plain": [
       "count    1005.000000\n",
       "mean        3.996115\n",
       "std         0.773917\n",
       "min         1.450000\n",
       "25%         3.488675\n",
       "50%         3.969740\n",
       "75%         4.549917\n",
       "max         6.494749\n",
       "Name: Turbidity, dtype: float64"
      ]
     },
     "execution_count": 69,
     "metadata": {},
     "output_type": "execute_result"
    }
   ],
   "source": [
    "df['Turbidity'].iloc[len(df)//2:].describe()"
   ]
  },
  {
   "cell_type": "code",
   "execution_count": 70,
   "metadata": {},
   "outputs": [
    {
     "data": {
      "text/plain": [
       "<AxesSubplot:>"
      ]
     },
     "execution_count": 70,
     "metadata": {},
     "output_type": "execute_result"
    },
    {
     "data": {
      "image/png": "[encoded data removed]",
      "text/plain": [
       "<Figure size 432x288 with 1 Axes>"
      ]
     },
     "metadata": {
      "needs_background": "light"
     },
     "output_type": "display_data"
    }
   ],
   "source": [
    "df.iloc[len(df)//2:].boxplot(['Turbidity'])"
   ]
  },
  {
   "cell_type": "markdown",
   "metadata": {},
   "source": [
    "Enam Langkah Testing TurbidityAwal dan TurbidityAkhir:  \n",
    "\n",
    "X adalah variabel random TurbidityAwal  \n",
    "Y adalah variabel random TurbidityAkhir"
   ]
  },
  {
   "cell_type": "markdown",
   "metadata": {},
   "source": [
    "1. Hipotesis Nol  \n",
    "   ${H_0: P(X > 4) = P(Y > 4)}$\n",
    "2. Hipotesis Alternatif  \n",
    "   ${H_1: P(X > 4) > P(Y > 4)}$\n",
    "3. Tingkat Signifikan  \n",
    "   ${\\alpha = 0.05}$"
   ]
  },
  {
   "cell_type": "markdown",
   "metadata": {},
   "source": [
    "4. Penentuan uji statistik dan daerah kritis"
   ]
  },
  {
   "cell_type": "code",
   "execution_count": 71,
   "metadata": {},
   "outputs": [
    {
     "data": {
      "text/plain": [
       "1.645"
      ]
     },
     "execution_count": 71,
     "metadata": {},
     "output_type": "execute_result"
    }
   ],
   "source": [
    "zalpha = stats.norm.ppf(1 - 0.05)\n",
    "round(zalpha, 3)"
   ]
  },
  {
   "cell_type": "markdown",
   "metadata": {},
   "source": [
    "5. Perhitungan uji statistik dan p-value"
   ]
  },
  {
   "cell_type": "code",
   "execution_count": 72,
   "metadata": {},
   "outputs": [
    {
     "name": "stdout",
     "output_type": "stream",
     "text": [
      "z: -0.18640972388732355\n",
      "p-value: 0.5739382662410686\n"
     ]
    }
   ],
   "source": [
    "bagianAwal = df['Turbidity'].iloc[:len(df)//2]\n",
    "bagianAkhir = df['Turbidity'].iloc[len(df)//2:]\n",
    "\n",
    "bagianAwal2 = bagianAwal.loc[bagianAwal > 4]\n",
    "bagianAkhir2 = bagianAkhir.loc[bagianAkhir > 4]\n",
    "\n",
    "p1 = len(bagianAwal2) / len(bagianAwal)\n",
    "p2 = len(bagianAkhir2) / len(bagianAkhir)\n",
    "\n",
    "x = (len(bagianAwal2) + len(bagianAkhir2))/(len(bagianAwal) + len(bagianAkhir))\n",
    "y = 1 - x\n",
    "\n",
    "z = (p1 - p2) / ((x * y / len(bagianAwal)) + (x * y / len(bagianAkhir))**0.5)\n",
    "p = 1 - stats.norm.cdf(z)\n",
    "\n",
    "print(\"z:\", z)\n",
    "print(\"p-value:\", p)"
   ]
  },
  {
   "cell_type": "markdown",
   "metadata": {},
   "source": [
    "6. Keputusan"
   ]
  },
  {
   "cell_type": "code",
   "execution_count": 73,
   "metadata": {},
   "outputs": [
    {
     "name": "stdout",
     "output_type": "stream",
     "text": [
      "Hipotesis Null diterima\n"
     ]
    }
   ],
   "source": [
    "if z > zalpha:\n",
    "  print(\"Hipotesis Null ditolak\")\n",
    "else:\n",
    "  print(\"Hipotesis Null diterima\")"
   ]
  },
  {
   "cell_type": "markdown",
   "metadata": {},
   "source": [
    "#### e. Bagian awal kolom Sulfate memiliki variansi yang sama dengan bagian akhirnya?"
   ]
  },
  {
   "cell_type": "markdown",
   "metadata": {},
   "source": [
    "Variansi Bagian Awal Kolom Sulfate"
   ]
  },
  {
   "cell_type": "code",
   "execution_count": 74,
   "metadata": {},
   "outputs": [
    {
     "data": {
      "text/plain": [
       "1708.3966020772502"
      ]
     },
     "execution_count": 74,
     "metadata": {},
     "output_type": "execute_result"
    }
   ],
   "source": [
    "df['Sulfate'].iloc[:len(df)//2].var()"
   ]
  },
  {
   "cell_type": "code",
   "execution_count": 75,
   "metadata": {},
   "outputs": [
    {
     "data": {
      "text/plain": [
       "<AxesSubplot:>"
      ]
     },
     "execution_count": 75,
     "metadata": {},
     "output_type": "execute_result"
    },
    {
     "data": {
      "image/png": "[encoded data removed]",
      "text/plain": [
       "<Figure size 432x288 with 1 Axes>"
      ]
     },
     "metadata": {
      "needs_background": "light"
     },
     "output_type": "display_data"
    }
   ],
   "source": [
    "df.iloc[:len(df)//2].boxplot(['Sulfate'])"
   ]
  },
  {
   "cell_type": "markdown",
   "metadata": {},
   "source": [
    "Variansi Bagian Akhir Kolom Sulfate"
   ]
  },
  {
   "cell_type": "code",
   "execution_count": 76,
   "metadata": {},
   "outputs": [
    {
     "data": {
      "text/plain": [
       "1682.7330644425087"
      ]
     },
     "execution_count": 76,
     "metadata": {},
     "output_type": "execute_result"
    }
   ],
   "source": [
    "df['Sulfate'].iloc[len(df)//2:].var()"
   ]
  },
  {
   "cell_type": "code",
   "execution_count": 77,
   "metadata": {},
   "outputs": [
    {
     "data": {
      "text/plain": [
       "<AxesSubplot:>"
      ]
     },
     "execution_count": 77,
     "metadata": {},
     "output_type": "execute_result"
    },
    {
     "data": {
      "image/png": "[encoded data removed]",
      "text/plain": [
       "<Figure size 432x288 with 1 Axes>"
      ]
     },
     "metadata": {
      "needs_background": "light"
     },
     "output_type": "display_data"
    }
   ],
   "source": [
    "df.iloc[len(df)//2:].boxplot(['Sulfate'])"
   ]
  },
  {
   "cell_type": "markdown",
   "metadata": {},
   "source": [
    "##### Enam Langkah Testing SulfateAwal dan SulfateAkhir:"
   ]
  },
  {
   "cell_type": "markdown",
   "metadata": {},
   "source": [
    "1. Hipotesis Nol  \n",
    "   ${H_0: \\sigma^2_{SulfateAwal} = \\sigma^2_{SulfateAkhir}}$\n",
    "2. Hipotesis Alternatif  \n",
    "   ${H_1: \\sigma^2_{SulfateAwal} \\ne \\sigma^2_{SulfateAkhir}}$\n",
    "3. Tingkat Signifikan  \n",
    "   ${\\alpha = 0.05}$"
   ]
  },
  {
   "cell_type": "markdown",
   "metadata": {},
   "source": [
    "4. Penentuan uji statistik dan daerah kritis  "
   ]
  },
  {
   "cell_type": "code",
   "execution_count": 90,
   "metadata": {},
   "outputs": [
    {
     "name": "stdout",
     "output_type": "stream",
     "text": [
      "f1: 1.132\n",
      "f2: 0.884\n"
     ]
    }
   ],
   "source": [
    "f1 = stats.f.ppf(q=1 - 0.05/2, dfn=len(bagianAwal) - 1, dfd=len(bagianAkhir) - 1)\n",
    "f2 = 1 / (stats.f.ppf(q=1 - 0.05/2, dfn=len(bagianAkhir) - 1, dfd=len(bagianAwal) - 1))\n",
    "print(\"f1:\", round(f1, 3))\n",
    "print(\"f2:\", round(f2, 3))"
   ]
  },
  {
   "cell_type": "markdown",
   "metadata": {},
   "source": [
    "5. Perhitungan uji statistik dan p-value  "
   ]
  },
  {
   "cell_type": "code",
   "execution_count": 78,
   "metadata": {},
   "outputs": [
    {
     "name": "stdout",
     "output_type": "stream",
     "text": [
      "f: 1.0152511043950063\n",
      "p-value: 0.8105332960349165\n"
     ]
    }
   ],
   "source": [
    "bagianAwal = df['Sulfate'].iloc[:len(df)//2]\n",
    "bagianAkhir = df['Sulfate'].iloc[len(df)//2:]\n",
    "\n",
    "varAwal = bagianAwal.var()\n",
    "varAkhir = bagianAkhir.var()\n",
    "\n",
    "if varAwal > varAkhir:\n",
    "  f = varAwal / varAkhir\n",
    "else:\n",
    "  f = varAkhir / varAwal\n",
    "\n",
    "p = 2 * (1 - stats.f.cdf(f, len(bagianAkhir) - 1, len(bagianAwal) - 1))\n",
    "\n",
    "print(\"f:\", f)\n",
    "print(\"p-value:\", p)"
   ]
  },
  {
   "cell_type": "markdown",
   "metadata": {},
   "source": [
    "6. Keputusan"
   ]
  },
  {
   "cell_type": "code",
   "execution_count": 79,
   "metadata": {},
   "outputs": [
    {
     "name": "stdout",
     "output_type": "stream",
     "text": [
      "Hipotesis Null diterima\n"
     ]
    }
   ],
   "source": [
    "if f > f1 or f < f2:\n",
    "  print(\"Hipotesis Null ditolak\")\n",
    "else:\n",
    "  print(\"Hipotesis Null diterima\")"
   ]
  },
  {
   "cell_type": "markdown",
   "metadata": {},
   "source": [
    "### Soal 6\n",
    "Test korelasi: tentukan apakah setiap kolom non-target berkorelasi dengan kolom target, dengan menggambarkan juga scatter plot nya. Gunakan correlation test."
   ]
  },
  {
   "cell_type": "markdown",
   "metadata": {},
   "source": [
    "#### a. Korelasi pH dengan Potability"
   ]
  },
  {
   "cell_type": "code",
   "execution_count": 80,
   "metadata": {},
   "outputs": [
    {
     "name": "stdout",
     "output_type": "stream",
     "text": [
      "Nilai korelasi: 0.02\n",
      "Berdasarkan nilai korelasi yang didapatkan dapat disimpulkan bahwa pH dan Potability merupakan korelasi positif\n"
     ]
    },
    {
     "data": {
      "text/plain": [
       "<AxesSubplot:xlabel='pH', ylabel='Potability'>"
      ]
     },
     "execution_count": 80,
     "metadata": {},
     "output_type": "execute_result"
    },
    {
     "data": {
      "image/png": "[encoded data removed]",
      "text/plain": [
       "<Figure size 432x288 with 1 Axes>"
      ]
     },
     "metadata": {
      "needs_background": "light"
     },
     "output_type": "display_data"
    }
   ],
   "source": [
    "korelasi = round(df[\"pH\"].corr(df[\"Potability\"]),2)\n",
    "print(\"Nilai korelasi:\",korelasi)\n",
    "if(korelasi > 0):\n",
    "    print(\"Berdasarkan nilai korelasi yang didapatkan dapat disimpulkan bahwa pH dan Potability merupakan korelasi positif\")\n",
    "elif(korelasi < 0):\n",
    "    print(\"Berdasarkan nilai korelasi yang didapatkan dapat disimpulkan bahwa pH dan Potability merupakan korelasi negatif\")\n",
    "else:\n",
    "    print(\"Berdasarkan nilai korelasi yang didapatkan dapat disimpulkan bahwa pH dan Potability tidak berkorelasi\")\n",
    " \n",
    "sns.scatterplot(data = df, x = \"pH\", y = \"Potability\")"
   ]
  },
  {
   "cell_type": "markdown",
   "metadata": {},
   "source": [
    "#### b. Korelasi Hardness dengan Potability"
   ]
  },
  {
   "cell_type": "code",
   "execution_count": 81,
   "metadata": {},
   "outputs": [
    {
     "name": "stdout",
     "output_type": "stream",
     "text": [
      "Nilai korelasi: -0.0\n",
      "Berdasarkan nilai korelasi yang didapatkan dapat disimpulkan bahwa Hardness dan Potability tidak berkorelasi\n"
     ]
    },
    {
     "data": {
      "text/plain": [
       "<AxesSubplot:xlabel='Hardness', ylabel='Potability'>"
      ]
     },
     "execution_count": 81,
     "metadata": {},
     "output_type": "execute_result"
    },
    {
     "data": {
      "image/png": "[encoded data removed]",
      "text/plain": [
       "<Figure size 432x288 with 1 Axes>"
      ]
     },
     "metadata": {
      "needs_background": "light"
     },
     "output_type": "display_data"
    }
   ],
   "source": [
    "korelasi = round(df[\"Hardness\"].corr(df[\"Potability\"]),2)\n",
    "print(\"Nilai korelasi:\",korelasi)\n",
    "if(korelasi > 0):\n",
    "    print(\"Berdasarkan nilai korelasi yang didapatkan dapat disimpulkan bahwa Hardness dan Potability merupakan korelasi positif\")\n",
    "elif(korelasi < 0):\n",
    "    print(\"Berdasarkan nilai korelasi yang didapatkan dapat disimpulkan bahwa Hardness dan Potability merupakan korelasi negatif\")\n",
    "else:\n",
    "    print(\"Berdasarkan nilai korelasi yang didapatkan dapat disimpulkan bahwa Hardness dan Potability tidak berkorelasi\")\n",
    "    \n",
    "sns.scatterplot(data = df, x = \"Hardness\", y = \"Potability\")"
   ]
  },
  {
   "cell_type": "markdown",
   "metadata": {},
   "source": [
    "#### c. Korelasi Solids dengan Potability"
   ]
  },
  {
   "cell_type": "code",
   "execution_count": 82,
   "metadata": {},
   "outputs": [
    {
     "name": "stdout",
     "output_type": "stream",
     "text": [
      "Nilai korelasi: 0.03897657818173466\n",
      "Berdasarkan nilai korelasi yang didapatkan dapat disimpulkan bahwa Solids dan Potability merupakan korelasi positif\n"
     ]
    },
    {
     "data": {
      "text/plain": [
       "<AxesSubplot:xlabel='Solids', ylabel='Potability'>"
      ]
     },
     "execution_count": 82,
     "metadata": {},
     "output_type": "execute_result"
    },
    {
     "data": {
      "image/png": "[encoded data removed]",
      "text/plain": [
       "<Figure size 432x288 with 1 Axes>"
      ]
     },
     "metadata": {
      "needs_background": "light"
     },
     "output_type": "display_data"
    }
   ],
   "source": [
    "korelasi = df[\"Solids\"].corr(df[\"Potability\"])\n",
    "print(\"Nilai korelasi:\",korelasi)\n",
    "if(korelasi > 0):\n",
    "    print(\"Berdasarkan nilai korelasi yang didapatkan dapat disimpulkan bahwa Solids dan Potability merupakan korelasi positif\")\n",
    "elif(korelasi < 0):\n",
    "    print(\"Berdasarkan nilai korelasi yang didapatkan dapat disimpulkan bahwa Solids dan Potability merupakan korelasi negatif\")\n",
    "else:\n",
    "    print(\"Berdasarkan nilai korelasi yang didapatkan dapat disimpulkan bahwa Solids dan Potability tidak berkorelasi\")\n",
    "    \n",
    "sns.scatterplot(data = df, x = \"Solids\", y = \"Potability\")"
   ]
  },
  {
   "cell_type": "markdown",
   "metadata": {},
   "source": [
    "#### d. Korelasi Chloramines dengan Potability"
   ]
  },
  {
   "cell_type": "code",
   "execution_count": 83,
   "metadata": {},
   "outputs": [
    {
     "name": "stdout",
     "output_type": "stream",
     "text": [
      "Nilai korelasi: 0.02077892184052409\n",
      "Berdasarkan nilai korelasi yang didapatkan dapat disimpulkan bahwa Chloramines dan Potability merupakan korelasi positif\n"
     ]
    },
    {
     "data": {
      "text/plain": [
       "<AxesSubplot:xlabel='Chloramines', ylabel='Potability'>"
      ]
     },
     "execution_count": 83,
     "metadata": {},
     "output_type": "execute_result"
    },
    {
     "data": {
      "image/png": "[encoded data removed]",
      "text/plain": [
       "<Figure size 432x288 with 1 Axes>"
      ]
     },
     "metadata": {
      "needs_background": "light"
     },
     "output_type": "display_data"
    }
   ],
   "source": [
    "korelasi = df[\"Chloramines\"].corr(df[\"Potability\"])\n",
    "print(\"Nilai korelasi:\",korelasi)\n",
    "if(korelasi > 0):\n",
    "    print(\"Berdasarkan nilai korelasi yang didapatkan dapat disimpulkan bahwa Chloramines dan Potability merupakan korelasi positif\")\n",
    "elif(korelasi < 0):\n",
    "    print(\"Berdasarkan nilai korelasi yang didapatkan dapat disimpulkan bahwa Chloramines dan Potability merupakan korelasi negatif\")\n",
    "else:\n",
    "    print(\"Berdasarkan nilai korelasi yang didapatkan dapat disimpulkan bahwa Chloramines dan Potability tidak berkorelasi\")\n",
    "    \n",
    "sns.scatterplot(data = df, x = \"Chloramines\", y = \"Potability\")"
   ]
  },
  {
   "cell_type": "markdown",
   "metadata": {},
   "source": [
    "#### e. Korelasi Sulfate dengan Potability"
   ]
  },
  {
   "cell_type": "code",
   "execution_count": 84,
   "metadata": {},
   "outputs": [
    {
     "name": "stdout",
     "output_type": "stream",
     "text": [
      "Nilai korelasi: -0.015703164419273778\n",
      "Berdasarkan nilai korelasi yang didapatkan dapat disimpulkan bahwa Sulfate dan Potability merupakan korelasi negatif\n"
     ]
    },
    {
     "data": {
      "text/plain": [
       "<AxesSubplot:xlabel='Sulfate', ylabel='Potability'>"
      ]
     },
     "execution_count": 84,
     "metadata": {},
     "output_type": "execute_result"
    },
    {
     "data": {
      "image/png": "[encoded data removed]",
      "text/plain": [
       "<Figure size 432x288 with 1 Axes>"
      ]
     },
     "metadata": {
      "needs_background": "light"
     },
     "output_type": "display_data"
    }
   ],
   "source": [
    "korelasi = df[\"Sulfate\"].corr(df[\"Potability\"])\n",
    "print(\"Nilai korelasi:\",korelasi)\n",
    "if(korelasi > 0):\n",
    "    print(\"Berdasarkan nilai korelasi yang didapatkan dapat disimpulkan bahwa Sulfate dan Potability merupakan korelasi positif\")\n",
    "elif(korelasi < 0):\n",
    "    print(\"Berdasarkan nilai korelasi yang didapatkan dapat disimpulkan bahwa Sulfate dan Potability merupakan korelasi negatif\")\n",
    "else:\n",
    "    print(\"Berdasarkan nilai korelasi yang didapatkan dapat disimpulkan bahwa Sulfate dan Potability tidak berkorelasi\")\n",
    "    \n",
    "sns.scatterplot(data = df, x = \"Sulfate\", y = \"Potability\")"
   ]
  },
  {
   "cell_type": "markdown",
   "metadata": {},
   "source": [
    "#### f. Korelasi Conductivity dengan Potability"
   ]
  },
  {
   "cell_type": "code",
   "execution_count": 85,
   "metadata": {},
   "outputs": [
    {
     "name": "stdout",
     "output_type": "stream",
     "text": [
      "Nilai korelasi: -0.02\n",
      "Berdasarkan nilai korelasi yang didapatkan dapat disimpulkan bahwa Conductivity dan Potability merupakan korelasi negatif\n"
     ]
    },
    {
     "data": {
      "text/plain": [
       "<AxesSubplot:xlabel='Conductivity', ylabel='Potability'>"
      ]
     },
     "execution_count": 85,
     "metadata": {},
     "output_type": "execute_result"
    },
    {
     "data": {
      "image/png": "[encoded data removed]",
      "text/plain": [
       "<Figure size 432x288 with 1 Axes>"
      ]
     },
     "metadata": {
      "needs_background": "light"
     },
     "output_type": "display_data"
    }
   ],
   "source": [
    "korelasi = round(df[\"Conductivity\"].corr(df[\"Potability\"]),2)\n",
    "print(\"Nilai korelasi:\",korelasi)\n",
    "if(korelasi > 0):\n",
    "    print(\"Berdasarkan nilai korelasi yang didapatkan dapat disimpulkan bahwa Conductivity dan Potability merupakan korelasi positif\")\n",
    "elif(korelasi < 0):\n",
    "    print(\"Berdasarkan nilai korelasi yang didapatkan dapat disimpulkan bahwa Conductivity dan Potability merupakan korelasi negatif\")\n",
    "else:\n",
    "    print(\"Berdasarkan nilai korelasi yang didapatkan dapat disimpulkan bahwa Conductivity dan Potability tidak berkorelasi\")\n",
    "    \n",
    "sns.scatterplot(data = df, x = \"Conductivity\", y = \"Potability\")"
   ]
  },
  {
   "cell_type": "markdown",
   "metadata": {},
   "source": [
    "#### g. Korelasi OrganicCarbon dengan Potability"
   ]
  },
  {
   "cell_type": "code",
   "execution_count": 86,
   "metadata": {},
   "outputs": [
    {
     "name": "stdout",
     "output_type": "stream",
     "text": [
      "Nilai korelasi: -0.02\n",
      "Berdasarkan nilai korelasi yang didapatkan dapat disimpulkan bahwa OrganicCarbon dan Potability merupakan korelasi negatif\n"
     ]
    },
    {
     "data": {
      "text/plain": [
       "<AxesSubplot:xlabel='Solids', ylabel='Potability'>"
      ]
     },
     "execution_count": 86,
     "metadata": {},
     "output_type": "execute_result"
    },
    {
     "data": {
      "image/png": "[encoded data removed]",
      "text/plain": [
       "<Figure size 432x288 with 1 Axes>"
      ]
     },
     "metadata": {
      "needs_background": "light"
     },
     "output_type": "display_data"
    }
   ],
   "source": [
    "korelasi = round(df[\"OrganicCarbon\"].corr(df[\"Potability\"]),2)\n",
    "print(\"Nilai korelasi:\",korelasi)\n",
    "if(korelasi > 0):\n",
    "    print(\"Berdasarkan nilai korelasi yang didapatkan dapat disimpulkan bahwa OrganicCarbon dan Potability merupakan korelasi positif\")\n",
    "elif(korelasi < 0):\n",
    "    print(\"Berdasarkan nilai korelasi yang didapatkan dapat disimpulkan bahwa OrganicCarbon dan Potability merupakan korelasi negatif\")\n",
    "else:\n",
    "    print(\"Berdasarkan nilai korelasi yang didapatkan dapat disimpulkan bahwa OrganicCarbon dan Potability tidak berkorelasi\")\n",
    "    \n",
    "sns.scatterplot(data = df, x = \"Solids\", y = \"Potability\")"
   ]
  },
  {
   "cell_type": "markdown",
   "metadata": {},
   "source": [
    "#### h. Korelasi Trihalomethanes dengan Potability"
   ]
  },
  {
   "cell_type": "code",
   "execution_count": 87,
   "metadata": {},
   "outputs": [
    {
     "name": "stdout",
     "output_type": "stream",
     "text": [
      "Nilai korelasi: 0.01\n",
      "Berdasarkan nilai korelasi yang didapatkan dapat disimpulkan bahwa Trihalomethanes dan Potability merupakan korelasi positif\n"
     ]
    },
    {
     "data": {
      "text/plain": [
       "<AxesSubplot:xlabel='Trihalomethanes', ylabel='Potability'>"
      ]
     },
     "execution_count": 87,
     "metadata": {},
     "output_type": "execute_result"
    },
    {
     "data": {
      "image/png": "[encoded data removed]",
      "text/plain": [
       "<Figure size 432x288 with 1 Axes>"
      ]
     },
     "metadata": {
      "needs_background": "light"
     },
     "output_type": "display_data"
    }
   ],
   "source": [
    "korelasi = round(df[\"Trihalomethanes\"].corr(df[\"Potability\"]),2)\n",
    "print(\"Nilai korelasi:\",korelasi)\n",
    "if(korelasi > 0):\n",
    "    print(\"Berdasarkan nilai korelasi yang didapatkan dapat disimpulkan bahwa Trihalomethanes dan Potability merupakan korelasi positif\")\n",
    "elif(korelasi < 0):\n",
    "    print(\"Berdasarkan nilai korelasi yang didapatkan dapat disimpulkan bahwa Trihalomethanes dan Potability merupakan korelasi negatif\")\n",
    "else:\n",
    "    print(\"Berdasarkan nilai korelasi yang didapatkan dapat disimpulkan bahwa Trihalomethanes dan Potability tidak berkorelasi\")\n",
    "    \n",
    "sns.scatterplot(data = df, x = \"Trihalomethanes\", y = \"Potability\")"
   ]
  },
  {
   "cell_type": "markdown",
   "metadata": {},
   "source": [
    "#### i. Korelasi Turbidity dengan Potability"
   ]
  },
  {
   "cell_type": "code",
   "execution_count": 88,
   "metadata": {},
   "outputs": [
    {
     "name": "stdout",
     "output_type": "stream",
     "text": [
      "Nilai korelasi: 0.02\n",
      "Berdasarkan nilai korelasi yang didapatkan dapat disimpulkan bahwa Turbidity dan Potability merupakan korelasi positif\n"
     ]
    },
    {
     "data": {
      "text/plain": [
       "<AxesSubplot:xlabel='Turbidity', ylabel='Potability'>"
      ]
     },
     "execution_count": 88,
     "metadata": {},
     "output_type": "execute_result"
    },
    {
     "data": {
      "image/png": "[encoded data removed]",
      "text/plain": [
       "<Figure size 432x288 with 1 Axes>"
      ]
     },
     "metadata": {
      "needs_background": "light"
     },
     "output_type": "display_data"
    }
   ],
   "source": [
    "korelasi = round(df[\"Turbidity\"].corr(df[\"Potability\"]),2)\n",
    "print(\"Nilai korelasi:\",korelasi)\n",
    "if(korelasi > 0):\n",
    "    print(\"Berdasarkan nilai korelasi yang didapatkan dapat disimpulkan bahwa Turbidity dan Potability merupakan korelasi positif\")\n",
    "elif(korelasi < 0):\n",
    "    print(\"Berdasarkan nilai korelasi yang didapatkan dapat disimpulkan bahwa Turbidity dan Potability merupakan korelasi negatif\")\n",
    "else:\n",
    "    print(\"Berdasarkan nilai korelasi yang didapatkan dapat disimpulkan bahwa Turbidity dan Potability tidak berkorelasi\")\n",
    "    \n",
    "sns.scatterplot(data = df, x = \"Turbidity\", y = \"Potability\")"
   ]
  }
 ],
 "metadata": {
  "interpreter": {
   "hash": "af506f0f4df9e070635421c29e96a5179972240d87d49e527249eca655fb6161"
  },
  "kernelspec": {
   "display_name": "Python 3 (ipykernel)",
   "language": "python",
   "name": "python3"
  },
  "language_info": {
   "codemirror_mode": {
    "name": "ipython",
    "version": 3
   },
   "file_extension": ".py",
   "mimetype": "text/x-python",
   "name": "python",
   "nbconvert_exporter": "python",
   "pygments_lexer": "ipython3",
   "version": "3.10.4"
  }
 },
 "nbformat": 4,
 "nbformat_minor": 2
}
